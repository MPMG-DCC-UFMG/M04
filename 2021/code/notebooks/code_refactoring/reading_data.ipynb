{
 "metadata": {
  "language_info": {
   "codemirror_mode": {
    "name": "ipython",
    "version": 3
   },
   "file_extension": ".py",
   "mimetype": "text/x-python",
   "name": "python",
   "nbconvert_exporter": "python",
   "pygments_lexer": "ipython3",
   "version": "3.8.5"
  },
  "orig_nbformat": 4,
  "kernelspec": {
   "name": "python3",
   "display_name": "Python 3.8.5 64-bit"
  },
  "interpreter": {
   "hash": "916dbcbb3f70747c44a77c7bcd40155683ae19c65e1c03b4aa3499c5328201f1"
  }
 },
 "nbformat": 4,
 "nbformat_minor": 2,
 "cells": [
  {
   "cell_type": "code",
   "execution_count": 9,
   "metadata": {},
   "outputs": [],
   "source": [
    "import pandas as pd\n",
    "\n",
    "relacoes_entre_cnpjs = pd.read_csv(\n",
    "    '/home/pedro/code/trabalho/M04/2021/data/input/relacao_cnpjs.csv',\n",
    "    header=None,\n",
    "    dtype=str,\n",
    "    sep=' '\n",
    ")\n",
    "\n",
    "informacoes_licitacoes = pd.read_csv(\n",
    "    '/home/pedro/code/trabalho/M04/2021/data/input/infos_licitacoes.csv',\n",
    "    dtype=str,\n",
    "    sep=';'\n",
    ")\n",
    "\n",
    "cnpjs_por_licitacao = pd.read_csv(\n",
    "    '/home/pedro/code/trabalho/M04/2021/data/input/licitacoes_cnpjs_licitantes.csv',\n",
    "    dtype=str,\n",
    "    sep=';'\n",
    ")"
   ]
  },
  {
   "cell_type": "code",
   "execution_count": 10,
   "metadata": {},
   "outputs": [
    {
     "output_type": "execute_result",
     "data": {
      "text/plain": [
       "                     0               1\n",
       "0       00010126000651  00549284000170\n",
       "1       00010126000651  01758483000150\n",
       "2       00010126000651  03102482000189\n",
       "3       00010126000651  03394045000186\n",
       "4       00010126000651  04751237000165\n",
       "...                ...             ...\n",
       "223431  97552982000166  19668324000120\n",
       "223432  97552982000166  19675418000127\n",
       "223433  97552982000166  20634414000180\n",
       "223434  97552982000166  21501739000157\n",
       "223435  97552982000166  65343915000145\n",
       "\n",
       "[223436 rows x 2 columns]"
      ],
      "text/html": "<div>\n<style scoped>\n    .dataframe tbody tr th:only-of-type {\n        vertical-align: middle;\n    }\n\n    .dataframe tbody tr th {\n        vertical-align: top;\n    }\n\n    .dataframe thead th {\n        text-align: right;\n    }\n</style>\n<table border=\"1\" class=\"dataframe\">\n  <thead>\n    <tr style=\"text-align: right;\">\n      <th></th>\n      <th>0</th>\n      <th>1</th>\n    </tr>\n  </thead>\n  <tbody>\n    <tr>\n      <th>0</th>\n      <td>00010126000651</td>\n      <td>00549284000170</td>\n    </tr>\n    <tr>\n      <th>1</th>\n      <td>00010126000651</td>\n      <td>01758483000150</td>\n    </tr>\n    <tr>\n      <th>2</th>\n      <td>00010126000651</td>\n      <td>03102482000189</td>\n    </tr>\n    <tr>\n      <th>3</th>\n      <td>00010126000651</td>\n      <td>03394045000186</td>\n    </tr>\n    <tr>\n      <th>4</th>\n      <td>00010126000651</td>\n      <td>04751237000165</td>\n    </tr>\n    <tr>\n      <th>...</th>\n      <td>...</td>\n      <td>...</td>\n    </tr>\n    <tr>\n      <th>223431</th>\n      <td>97552982000166</td>\n      <td>19668324000120</td>\n    </tr>\n    <tr>\n      <th>223432</th>\n      <td>97552982000166</td>\n      <td>19675418000127</td>\n    </tr>\n    <tr>\n      <th>223433</th>\n      <td>97552982000166</td>\n      <td>20634414000180</td>\n    </tr>\n    <tr>\n      <th>223434</th>\n      <td>97552982000166</td>\n      <td>21501739000157</td>\n    </tr>\n    <tr>\n      <th>223435</th>\n      <td>97552982000166</td>\n      <td>65343915000145</td>\n    </tr>\n  </tbody>\n</table>\n<p>223436 rows × 2 columns</p>\n</div>"
     },
     "metadata": {},
     "execution_count": 10
    }
   ],
   "source": [
    "relacoes_entre_cnpjs"
   ]
  },
  {
   "cell_type": "code",
   "execution_count": 11,
   "metadata": {},
   "outputs": [
    {
     "output_type": "execute_result",
     "data": {
      "text/plain": [
       "       seq_dim_licitacao   nom_entidade sgl_entidade_pai     nom_modalidade  \\\n",
       "0                 746396  Cascalho Rico               MG  Pregão Presencial   \n",
       "1                 746397  Cascalho Rico               MG            Convite   \n",
       "2                 746398  Cascalho Rico               MG  Pregão Presencial   \n",
       "3                 746399  Cascalho Rico               MG  Pregão Presencial   \n",
       "4                 746400  Cascalho Rico               MG  Pregão Presencial   \n",
       "...                  ...            ...              ...                ...   \n",
       "259336            897413         Sabará               MG  Pregão Presencial   \n",
       "259337            897414         Sabará               MG  Pregão Presencial   \n",
       "259338            897415         Sabará               MG  Pregão Presencial   \n",
       "259339            897416         Sabará               MG  Pregão Presencial   \n",
       "259340            897417         Sabará               MG  Pregão Presencial   \n",
       "\n",
       "       num_modalidade num_exercicio_licitacao  \\\n",
       "0                   4                    2015   \n",
       "1                   3                    2015   \n",
       "2                  12                    2015   \n",
       "3                  13                    2015   \n",
       "4                  14                    2015   \n",
       "...               ...                     ...   \n",
       "259336             31                    2016   \n",
       "259337             51                    2016   \n",
       "259338             71                    2016   \n",
       "259339             85                    2016   \n",
       "259340             83                    2016   \n",
       "\n",
       "                                               dsc_objeto vlr_licitacao  \n",
       "0       Selecao e Contratacao de pessoa(s) juridica(s)...     1190070.0  \n",
       "1       Selecao e contratacao de pessoa juridica ou pe...       32000.0  \n",
       "2       Selecao e contratacao de empresa(s) para o for...      989721.6  \n",
       "3       Selecao e contratacao de empresa(s) para forne...     520280.44  \n",
       "4       Selecao e contratacao de empresas para forneci...     206961.66  \n",
       "...                                                   ...           ...  \n",
       "259336  CONSTITUI OBJETO DA PRESENTE LICITACAO A CONTR...       12000.0  \n",
       "259337  CONSTITUI OBJETO DA PRESENTE LICITACAO, A CONT...           0.0  \n",
       "259338  PROMOVER REGISTRO DE PRECO, CONSIGNADO EM ATA,...        1530.0  \n",
       "259339  PROMOVER REGISTRO DE PRECO, CONSIGNADO EM ATA,...           0.0  \n",
       "259340  PROMOVER REGISTRO DE PRECO, CONSIGNADO EM ATA,...       26440.0  \n",
       "\n",
       "[259341 rows x 8 columns]"
      ],
      "text/html": "<div>\n<style scoped>\n    .dataframe tbody tr th:only-of-type {\n        vertical-align: middle;\n    }\n\n    .dataframe tbody tr th {\n        vertical-align: top;\n    }\n\n    .dataframe thead th {\n        text-align: right;\n    }\n</style>\n<table border=\"1\" class=\"dataframe\">\n  <thead>\n    <tr style=\"text-align: right;\">\n      <th></th>\n      <th>seq_dim_licitacao</th>\n      <th>nom_entidade</th>\n      <th>sgl_entidade_pai</th>\n      <th>nom_modalidade</th>\n      <th>num_modalidade</th>\n      <th>num_exercicio_licitacao</th>\n      <th>dsc_objeto</th>\n      <th>vlr_licitacao</th>\n    </tr>\n  </thead>\n  <tbody>\n    <tr>\n      <th>0</th>\n      <td>746396</td>\n      <td>Cascalho Rico</td>\n      <td>MG</td>\n      <td>Pregão Presencial</td>\n      <td>4</td>\n      <td>2015</td>\n      <td>Selecao e Contratacao de pessoa(s) juridica(s)...</td>\n      <td>1190070.0</td>\n    </tr>\n    <tr>\n      <th>1</th>\n      <td>746397</td>\n      <td>Cascalho Rico</td>\n      <td>MG</td>\n      <td>Convite</td>\n      <td>3</td>\n      <td>2015</td>\n      <td>Selecao e contratacao de pessoa juridica ou pe...</td>\n      <td>32000.0</td>\n    </tr>\n    <tr>\n      <th>2</th>\n      <td>746398</td>\n      <td>Cascalho Rico</td>\n      <td>MG</td>\n      <td>Pregão Presencial</td>\n      <td>12</td>\n      <td>2015</td>\n      <td>Selecao e contratacao de empresa(s) para o for...</td>\n      <td>989721.6</td>\n    </tr>\n    <tr>\n      <th>3</th>\n      <td>746399</td>\n      <td>Cascalho Rico</td>\n      <td>MG</td>\n      <td>Pregão Presencial</td>\n      <td>13</td>\n      <td>2015</td>\n      <td>Selecao e contratacao de empresa(s) para forne...</td>\n      <td>520280.44</td>\n    </tr>\n    <tr>\n      <th>4</th>\n      <td>746400</td>\n      <td>Cascalho Rico</td>\n      <td>MG</td>\n      <td>Pregão Presencial</td>\n      <td>14</td>\n      <td>2015</td>\n      <td>Selecao e contratacao de empresas para forneci...</td>\n      <td>206961.66</td>\n    </tr>\n    <tr>\n      <th>...</th>\n      <td>...</td>\n      <td>...</td>\n      <td>...</td>\n      <td>...</td>\n      <td>...</td>\n      <td>...</td>\n      <td>...</td>\n      <td>...</td>\n    </tr>\n    <tr>\n      <th>259336</th>\n      <td>897413</td>\n      <td>Sabará</td>\n      <td>MG</td>\n      <td>Pregão Presencial</td>\n      <td>31</td>\n      <td>2016</td>\n      <td>CONSTITUI OBJETO DA PRESENTE LICITACAO A CONTR...</td>\n      <td>12000.0</td>\n    </tr>\n    <tr>\n      <th>259337</th>\n      <td>897414</td>\n      <td>Sabará</td>\n      <td>MG</td>\n      <td>Pregão Presencial</td>\n      <td>51</td>\n      <td>2016</td>\n      <td>CONSTITUI OBJETO DA PRESENTE LICITACAO, A CONT...</td>\n      <td>0.0</td>\n    </tr>\n    <tr>\n      <th>259338</th>\n      <td>897415</td>\n      <td>Sabará</td>\n      <td>MG</td>\n      <td>Pregão Presencial</td>\n      <td>71</td>\n      <td>2016</td>\n      <td>PROMOVER REGISTRO DE PRECO, CONSIGNADO EM ATA,...</td>\n      <td>1530.0</td>\n    </tr>\n    <tr>\n      <th>259339</th>\n      <td>897416</td>\n      <td>Sabará</td>\n      <td>MG</td>\n      <td>Pregão Presencial</td>\n      <td>85</td>\n      <td>2016</td>\n      <td>PROMOVER REGISTRO DE PRECO, CONSIGNADO EM ATA,...</td>\n      <td>0.0</td>\n    </tr>\n    <tr>\n      <th>259340</th>\n      <td>897417</td>\n      <td>Sabará</td>\n      <td>MG</td>\n      <td>Pregão Presencial</td>\n      <td>83</td>\n      <td>2016</td>\n      <td>PROMOVER REGISTRO DE PRECO, CONSIGNADO EM ATA,...</td>\n      <td>26440.0</td>\n    </tr>\n  </tbody>\n</table>\n<p>259341 rows × 8 columns</p>\n</div>"
     },
     "metadata": {},
     "execution_count": 11
    }
   ],
   "source": [
    "informacoes_licitacoes"
   ]
  },
  {
   "cell_type": "code",
   "execution_count": 12,
   "metadata": {},
   "outputs": [
    {
     "output_type": "execute_result",
     "data": {
      "text/plain": [
       "       seq_dim_licitacao   num_documento\n",
       "0                 761453  07469458000133\n",
       "1                 761484  16786094000106\n",
       "2                 761484  02874663000160\n",
       "3                 761487  26680567000140\n",
       "4                 761487  13437102000110\n",
       "...                  ...             ...\n",
       "431393            933859  13829210000139\n",
       "431394            933859  22752302000159\n",
       "431395            933870  12118778000189\n",
       "431396            933875  08760011000181\n",
       "431397            984815  10896566000288\n",
       "\n",
       "[431398 rows x 2 columns]"
      ],
      "text/html": "<div>\n<style scoped>\n    .dataframe tbody tr th:only-of-type {\n        vertical-align: middle;\n    }\n\n    .dataframe tbody tr th {\n        vertical-align: top;\n    }\n\n    .dataframe thead th {\n        text-align: right;\n    }\n</style>\n<table border=\"1\" class=\"dataframe\">\n  <thead>\n    <tr style=\"text-align: right;\">\n      <th></th>\n      <th>seq_dim_licitacao</th>\n      <th>num_documento</th>\n    </tr>\n  </thead>\n  <tbody>\n    <tr>\n      <th>0</th>\n      <td>761453</td>\n      <td>07469458000133</td>\n    </tr>\n    <tr>\n      <th>1</th>\n      <td>761484</td>\n      <td>16786094000106</td>\n    </tr>\n    <tr>\n      <th>2</th>\n      <td>761484</td>\n      <td>02874663000160</td>\n    </tr>\n    <tr>\n      <th>3</th>\n      <td>761487</td>\n      <td>26680567000140</td>\n    </tr>\n    <tr>\n      <th>4</th>\n      <td>761487</td>\n      <td>13437102000110</td>\n    </tr>\n    <tr>\n      <th>...</th>\n      <td>...</td>\n      <td>...</td>\n    </tr>\n    <tr>\n      <th>431393</th>\n      <td>933859</td>\n      <td>13829210000139</td>\n    </tr>\n    <tr>\n      <th>431394</th>\n      <td>933859</td>\n      <td>22752302000159</td>\n    </tr>\n    <tr>\n      <th>431395</th>\n      <td>933870</td>\n      <td>12118778000189</td>\n    </tr>\n    <tr>\n      <th>431396</th>\n      <td>933875</td>\n      <td>08760011000181</td>\n    </tr>\n    <tr>\n      <th>431397</th>\n      <td>984815</td>\n      <td>10896566000288</td>\n    </tr>\n  </tbody>\n</table>\n<p>431398 rows × 2 columns</p>\n</div>"
     },
     "metadata": {},
     "execution_count": 12
    }
   ],
   "source": [
    "cnpjs_por_licitacao"
   ]
  },
  {
   "cell_type": "code",
   "execution_count": null,
   "metadata": {},
   "outputs": [],
   "source": []
  }
 ]
}