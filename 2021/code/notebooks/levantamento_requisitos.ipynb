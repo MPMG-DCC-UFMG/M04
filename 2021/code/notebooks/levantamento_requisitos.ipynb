{
 "metadata": {
  "language_info": {
   "codemirror_mode": {
    "name": "ipython",
    "version": 3
   },
   "file_extension": ".py",
   "mimetype": "text/x-python",
   "name": "python",
   "nbconvert_exporter": "python",
   "pygments_lexer": "ipython3",
   "version": 3
  },
  "orig_nbformat": 4
 },
 "nbformat": 4,
 "nbformat_minor": 2,
 "cells": [
  {
   "source": [
    "## Especificações do código"
   ],
   "cell_type": "markdown",
   "metadata": {}
  },
  {
   "source": [
    "## Specs mined through output inspection:\n",
    "\n",
    "### CSV files:\n",
    "\n",
    "1. **CNPJS_POR_LICITACAO_RAW_MG**\n",
    "    - licitacao : bidding id\n",
    "    - qtdade : different cnpjs competing in that bidding\n",
    "    - cnpjs : list of cnpjs\n",
    "\n",
    "2. **RELATORIO_GRAFOS_POR_MUNICIPIO**\n",
    "    - municipio : city name\n",
    "    - arestas : number of edges (number of connected cnpjs * biddings?)\n",
    "    - vertices : \n",
    "\n",
    "\n"
   ],
   "cell_type": "markdown",
   "metadata": {}
  },
  {
   "source": [
    "## Specs mined through code instrospection:\n",
    "\n",
    "1. Function **carrega_dicionarios_principais** makes {dict_info_licitacoes} which has licitacao as key (which receives \"seq_dim_licitacao\" from original file as value). It stores the licitacao's municipio, estado, nom_modalidade, num_modalidade, num_exercicio_licitacao, descricao and valor.\n",
    "\n",
    "2. Function **conta_quantos_cnpjs_estao_relacionados** adds edges and nodes to the Graph if two cnpjs (nodes) are related (edge). Then all cliques are listed.\n",
    "\n",
    "3. Function **identifica_cnpjs_aparecendo_juntos_em_licitacoes** counts how many times two cnpjs competed against each other in different biddings. It displays in following column how many times CNPJ_1 competed in biddings and then some kind of relation/ratio.\n",
    "\n",
    "4. Function **imprime_dict_registro_cnpjs_aparecendo_juntos_em_licitacoes_sumarizado** saves to a file some kind of summary.\n"
   ],
   "cell_type": "markdown",
   "metadata": {}
  },
  {
   "cell_type": "code",
   "execution_count": null,
   "metadata": {},
   "outputs": [],
   "source": []
  }
 ]
}