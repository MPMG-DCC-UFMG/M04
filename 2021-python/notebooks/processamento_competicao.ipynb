{
 "cells": [
  {
   "cell_type": "code",
   "execution_count": 1,
   "metadata": {},
   "outputs": [],
   "source": [
    "import pandas as pd\n",
    "import numpy as np\n",
    "import networkx as nx\n",
    "import matplotlib.pyplot as plt"
   ]
  },
  {
   "cell_type": "code",
   "execution_count": 5,
   "metadata": {},
   "outputs": [],
   "source": [
    "df = pd.read_pickle('../data/output/pickles/grau_competicao')\n",
    "dfv = df.drop(['ano', 'municipio', 'modalidade', 'valor', 'cnpjs', 'vinculo_em_uso', 'grafo'], axis=1)"
   ]
  },
  {
   "cell_type": "code",
   "execution_count": 6,
   "metadata": {},
   "outputs": [
    {
     "data": {
      "text/html": [
       "<div>\n",
       "<style scoped>\n",
       "    .dataframe tbody tr th:only-of-type {\n",
       "        vertical-align: middle;\n",
       "    }\n",
       "\n",
       "    .dataframe tbody tr th {\n",
       "        vertical-align: top;\n",
       "    }\n",
       "\n",
       "    .dataframe thead th {\n",
       "        text-align: right;\n",
       "    }\n",
       "</style>\n",
       "<table border=\"1\" class=\"dataframe\">\n",
       "  <thead>\n",
       "    <tr style=\"text-align: right;\">\n",
       "      <th></th>\n",
       "      <th>ano</th>\n",
       "      <th>municipio</th>\n",
       "      <th>modalidade</th>\n",
       "      <th>licitacao</th>\n",
       "      <th>valor</th>\n",
       "      <th>vinculo_em_uso</th>\n",
       "      <th>grafo</th>\n",
       "      <th>cnpjs</th>\n",
       "      <th>grau competição</th>\n",
       "    </tr>\n",
       "  </thead>\n",
       "  <tbody>\n",
       "    <tr>\n",
       "      <th>0</th>\n",
       "      <td>2015</td>\n",
       "      <td>Cascalho Rico</td>\n",
       "      <td>Pregão Presencial</td>\n",
       "      <td>746396</td>\n",
       "      <td>1190070.0</td>\n",
       "      <td>1</td>\n",
       "      <td>(19644907000111, 19703568000105, 1964488000016...</td>\n",
       "      <td>[19644907000111, 19703568000105, 1964488000016...</td>\n",
       "      <td>1.0</td>\n",
       "    </tr>\n",
       "    <tr>\n",
       "      <th>1</th>\n",
       "      <td>2015</td>\n",
       "      <td>Cascalho Rico</td>\n",
       "      <td>Convite</td>\n",
       "      <td>746397</td>\n",
       "      <td>32000.0</td>\n",
       "      <td>1</td>\n",
       "      <td>(17320374000197)</td>\n",
       "      <td>[17320374000197]</td>\n",
       "      <td>1.0</td>\n",
       "    </tr>\n",
       "    <tr>\n",
       "      <th>2</th>\n",
       "      <td>2015</td>\n",
       "      <td>Cascalho Rico</td>\n",
       "      <td>Pregão Presencial</td>\n",
       "      <td>746398</td>\n",
       "      <td>989721.6</td>\n",
       "      <td>1</td>\n",
       "      <td>(08655344000140, 65237851000106)</td>\n",
       "      <td>[08655344000140, 65237851000106]</td>\n",
       "      <td>1.0</td>\n",
       "    </tr>\n",
       "    <tr>\n",
       "      <th>3</th>\n",
       "      <td>2015</td>\n",
       "      <td>Cascalho Rico</td>\n",
       "      <td>Pregão Presencial</td>\n",
       "      <td>746399</td>\n",
       "      <td>520280.44</td>\n",
       "      <td>1</td>\n",
       "      <td>(25628900000109, 00365513000104, 21471613000187)</td>\n",
       "      <td>[25628900000109, 00365513000104, 21471613000187]</td>\n",
       "      <td>1.0</td>\n",
       "    </tr>\n",
       "    <tr>\n",
       "      <th>4</th>\n",
       "      <td>2015</td>\n",
       "      <td>Cascalho Rico</td>\n",
       "      <td>Pregão Presencial</td>\n",
       "      <td>746400</td>\n",
       "      <td>206961.66</td>\n",
       "      <td>1</td>\n",
       "      <td>(65237851000106)</td>\n",
       "      <td>[65237851000106]</td>\n",
       "      <td>1.0</td>\n",
       "    </tr>\n",
       "  </tbody>\n",
       "</table>\n",
       "</div>"
      ],
      "text/plain": [
       "    ano      municipio         modalidade licitacao      valor  \\\n",
       "0  2015  Cascalho Rico  Pregão Presencial    746396  1190070.0   \n",
       "1  2015  Cascalho Rico            Convite    746397    32000.0   \n",
       "2  2015  Cascalho Rico  Pregão Presencial    746398   989721.6   \n",
       "3  2015  Cascalho Rico  Pregão Presencial    746399  520280.44   \n",
       "4  2015  Cascalho Rico  Pregão Presencial    746400  206961.66   \n",
       "\n",
       "   vinculo_em_uso                                              grafo  \\\n",
       "0               1  (19644907000111, 19703568000105, 1964488000016...   \n",
       "1               1                                   (17320374000197)   \n",
       "2               1                   (08655344000140, 65237851000106)   \n",
       "3               1   (25628900000109, 00365513000104, 21471613000187)   \n",
       "4               1                                   (65237851000106)   \n",
       "\n",
       "                                               cnpjs  grau competição  \n",
       "0  [19644907000111, 19703568000105, 1964488000016...              1.0  \n",
       "1                                   [17320374000197]              1.0  \n",
       "2                   [08655344000140, 65237851000106]              1.0  \n",
       "3   [25628900000109, 00365513000104, 21471613000187]              1.0  \n",
       "4                                   [65237851000106]              1.0  "
      ]
     },
     "execution_count": 6,
     "metadata": {},
     "output_type": "execute_result"
    }
   ],
   "source": [
    "df.head()"
   ]
  },
  {
   "cell_type": "code",
   "execution_count": 7,
   "metadata": {
    "scrolled": true
   },
   "outputs": [
    {
     "data": {
      "text/html": [
       "<div>\n",
       "<style scoped>\n",
       "    .dataframe tbody tr th:only-of-type {\n",
       "        vertical-align: middle;\n",
       "    }\n",
       "\n",
       "    .dataframe tbody tr th {\n",
       "        vertical-align: top;\n",
       "    }\n",
       "\n",
       "    .dataframe thead th {\n",
       "        text-align: right;\n",
       "    }\n",
       "</style>\n",
       "<table border=\"1\" class=\"dataframe\">\n",
       "  <thead>\n",
       "    <tr style=\"text-align: right;\">\n",
       "      <th></th>\n",
       "      <th>licitacao</th>\n",
       "      <th>grau competição</th>\n",
       "    </tr>\n",
       "  </thead>\n",
       "  <tbody>\n",
       "    <tr>\n",
       "      <th>175822</th>\n",
       "      <td>985568</td>\n",
       "      <td>0.250000</td>\n",
       "    </tr>\n",
       "    <tr>\n",
       "      <th>223839</th>\n",
       "      <td>817707</td>\n",
       "      <td>0.333333</td>\n",
       "    </tr>\n",
       "    <tr>\n",
       "      <th>33570</th>\n",
       "      <td>718648</td>\n",
       "      <td>0.333333</td>\n",
       "    </tr>\n",
       "    <tr>\n",
       "      <th>176011</th>\n",
       "      <td>985703</td>\n",
       "      <td>0.333333</td>\n",
       "    </tr>\n",
       "    <tr>\n",
       "      <th>142000</th>\n",
       "      <td>904182</td>\n",
       "      <td>0.333333</td>\n",
       "    </tr>\n",
       "  </tbody>\n",
       "</table>\n",
       "</div>"
      ],
      "text/plain": [
       "       licitacao  grau competição\n",
       "175822    985568         0.250000\n",
       "223839    817707         0.333333\n",
       "33570     718648         0.333333\n",
       "176011    985703         0.333333\n",
       "142000    904182         0.333333"
      ]
     },
     "execution_count": 7,
     "metadata": {},
     "output_type": "execute_result"
    }
   ],
   "source": [
    "dfv.sort_values(by=['grau competição']).head(5)"
   ]
  },
  {
   "cell_type": "code",
   "execution_count": 9,
   "metadata": {},
   "outputs": [],
   "source": [
    "dfv.to_csv(\"../data/output/csv/grau_competicao.csv\", index=False)"
   ]
  }
 ],
 "metadata": {
  "interpreter": {
   "hash": "916dbcbb3f70747c44a77c7bcd40155683ae19c65e1c03b4aa3499c5328201f1"
  },
  "kernelspec": {
   "display_name": "Python 3 (ipykernel)",
   "language": "python",
   "name": "python3"
  },
  "language_info": {
   "codemirror_mode": {
    "name": "ipython",
    "version": 3
   },
   "file_extension": ".py",
   "mimetype": "text/x-python",
   "name": "python",
   "nbconvert_exporter": "python",
   "pygments_lexer": "ipython3",
   "version": "3.9.6"
  }
 },
 "nbformat": 4,
 "nbformat_minor": 2
}
