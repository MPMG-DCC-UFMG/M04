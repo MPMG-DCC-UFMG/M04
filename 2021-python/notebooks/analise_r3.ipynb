{
 "cells": [
  {
   "cell_type": "markdown",
   "metadata": {},
   "source": [
    "# Análise relatório 3"
   ]
  },
  {
   "cell_type": "code",
   "execution_count": 1,
   "metadata": {
    "scrolled": true
   },
   "outputs": [],
   "source": [
    "import pandas as pd"
   ]
  },
  {
   "cell_type": "code",
   "execution_count": 2,
   "metadata": {
    "scrolled": false
   },
   "outputs": [
    {
     "data": {
      "text/html": [
       "<div>\n",
       "<style scoped>\n",
       "    .dataframe tbody tr th:only-of-type {\n",
       "        vertical-align: middle;\n",
       "    }\n",
       "\n",
       "    .dataframe tbody tr th {\n",
       "        vertical-align: top;\n",
       "    }\n",
       "\n",
       "    .dataframe thead th {\n",
       "        text-align: right;\n",
       "    }\n",
       "</style>\n",
       "<table border=\"1\" class=\"dataframe\">\n",
       "  <thead>\n",
       "    <tr style=\"text-align: right;\">\n",
       "      <th></th>\n",
       "      <th>cnpj</th>\n",
       "      <th>qtdade_licitacoes_que_figurou_com_alguem_com_vinculo</th>\n",
       "      <th>lista_licitacoes_onde_isso_ocorreu</th>\n",
       "    </tr>\n",
       "  </thead>\n",
       "  <tbody>\n",
       "    <tr>\n",
       "      <th>0</th>\n",
       "      <td>5120772000180</td>\n",
       "      <td>1</td>\n",
       "      <td>715445;</td>\n",
       "    </tr>\n",
       "    <tr>\n",
       "      <th>1</th>\n",
       "      <td>28672087000162</td>\n",
       "      <td>3</td>\n",
       "      <td>862426;878601;878557;</td>\n",
       "    </tr>\n",
       "    <tr>\n",
       "      <th>2</th>\n",
       "      <td>8420079000111</td>\n",
       "      <td>2</td>\n",
       "      <td>948275;946535;</td>\n",
       "    </tr>\n",
       "    <tr>\n",
       "      <th>3</th>\n",
       "      <td>15392414000180</td>\n",
       "      <td>2</td>\n",
       "      <td>867550;752983;</td>\n",
       "    </tr>\n",
       "    <tr>\n",
       "      <th>4</th>\n",
       "      <td>7514572000138</td>\n",
       "      <td>1</td>\n",
       "      <td>960891;</td>\n",
       "    </tr>\n",
       "  </tbody>\n",
       "</table>\n",
       "</div>"
      ],
      "text/plain": [
       "             cnpj  qtdade_licitacoes_que_figurou_com_alguem_com_vinculo  \\\n",
       "0   5120772000180                                                  1      \n",
       "1  28672087000162                                                  3      \n",
       "2   8420079000111                                                  2      \n",
       "3  15392414000180                                                  2      \n",
       "4   7514572000138                                                  1      \n",
       "\n",
       "  lista_licitacoes_onde_isso_ocorreu  \n",
       "0                            715445;  \n",
       "1              862426;878601;878557;  \n",
       "2                     948275;946535;  \n",
       "3                     867550;752983;  \n",
       "4                            960891;  "
      ]
     },
     "execution_count": 2,
     "metadata": {},
     "output_type": "execute_result"
    }
   ],
   "source": [
    "df = pd.read_csv('../data/output/csv/relatorio_3')\n",
    "df.head(5)"
   ]
  },
  {
   "cell_type": "code",
   "execution_count": 3,
   "metadata": {
    "scrolled": true
   },
   "outputs": [
    {
     "data": {
      "text/html": [
       "<div>\n",
       "<style scoped>\n",
       "    .dataframe tbody tr th:only-of-type {\n",
       "        vertical-align: middle;\n",
       "    }\n",
       "\n",
       "    .dataframe tbody tr th {\n",
       "        vertical-align: top;\n",
       "    }\n",
       "\n",
       "    .dataframe thead th {\n",
       "        text-align: right;\n",
       "    }\n",
       "</style>\n",
       "<table border=\"1\" class=\"dataframe\">\n",
       "  <thead>\n",
       "    <tr style=\"text-align: right;\">\n",
       "      <th></th>\n",
       "      <th>cnpj</th>\n",
       "      <th>qtdade_licitacoes_que_figurou_com_alguem_com_vinculo</th>\n",
       "      <th>lista_licitacoes_onde_isso_ocorreu</th>\n",
       "    </tr>\n",
       "  </thead>\n",
       "  <tbody>\n",
       "    <tr>\n",
       "      <th>530</th>\n",
       "      <td>16366888000110</td>\n",
       "      <td>55</td>\n",
       "      <td>762537;155619;731301;790963;791108;926172;7626...</td>\n",
       "    </tr>\n",
       "    <tr>\n",
       "      <th>122</th>\n",
       "      <td>874929000140</td>\n",
       "      <td>55</td>\n",
       "      <td>762537;155619;731301;790963;791108;926172;7626...</td>\n",
       "    </tr>\n",
       "    <tr>\n",
       "      <th>118</th>\n",
       "      <td>5835916000185</td>\n",
       "      <td>33</td>\n",
       "      <td>973611;944076;948259;839537;839540;839542;8400...</td>\n",
       "    </tr>\n",
       "    <tr>\n",
       "      <th>352</th>\n",
       "      <td>71208516000174</td>\n",
       "      <td>33</td>\n",
       "      <td>973611;944076;948259;839537;839540;839542;8400...</td>\n",
       "    </tr>\n",
       "    <tr>\n",
       "      <th>268</th>\n",
       "      <td>6629745000109</td>\n",
       "      <td>26</td>\n",
       "      <td>985644;953004;815871;771795;779790;831441;8696...</td>\n",
       "    </tr>\n",
       "    <tr>\n",
       "      <th>703</th>\n",
       "      <td>49324221000104</td>\n",
       "      <td>26</td>\n",
       "      <td>985644;953004;815871;771795;779790;831441;8696...</td>\n",
       "    </tr>\n",
       "    <tr>\n",
       "      <th>131</th>\n",
       "      <td>13668217000116</td>\n",
       "      <td>20</td>\n",
       "      <td>985641;873162;884428;732717;733716;789090;7597...</td>\n",
       "    </tr>\n",
       "    <tr>\n",
       "      <th>46</th>\n",
       "      <td>18210168000197</td>\n",
       "      <td>20</td>\n",
       "      <td>985641;873162;884428;732717;733716;789090;7597...</td>\n",
       "    </tr>\n",
       "    <tr>\n",
       "      <th>706</th>\n",
       "      <td>1133225000189</td>\n",
       "      <td>13</td>\n",
       "      <td>770407;770407;770419;809439;770574;770574;9398...</td>\n",
       "    </tr>\n",
       "    <tr>\n",
       "      <th>630</th>\n",
       "      <td>6073848000127</td>\n",
       "      <td>13</td>\n",
       "      <td>766047;981159;984924;947613;952168;842684;9844...</td>\n",
       "    </tr>\n",
       "  </tbody>\n",
       "</table>\n",
       "</div>"
      ],
      "text/plain": [
       "               cnpj  qtdade_licitacoes_que_figurou_com_alguem_com_vinculo  \\\n",
       "530  16366888000110                                                 55      \n",
       "122    874929000140                                                 55      \n",
       "118   5835916000185                                                 33      \n",
       "352  71208516000174                                                 33      \n",
       "268   6629745000109                                                 26      \n",
       "703  49324221000104                                                 26      \n",
       "131  13668217000116                                                 20      \n",
       "46   18210168000197                                                 20      \n",
       "706   1133225000189                                                 13      \n",
       "630   6073848000127                                                 13      \n",
       "\n",
       "                    lista_licitacoes_onde_isso_ocorreu  \n",
       "530  762537;155619;731301;790963;791108;926172;7626...  \n",
       "122  762537;155619;731301;790963;791108;926172;7626...  \n",
       "118  973611;944076;948259;839537;839540;839542;8400...  \n",
       "352  973611;944076;948259;839537;839540;839542;8400...  \n",
       "268  985644;953004;815871;771795;779790;831441;8696...  \n",
       "703  985644;953004;815871;771795;779790;831441;8696...  \n",
       "131  985641;873162;884428;732717;733716;789090;7597...  \n",
       "46   985641;873162;884428;732717;733716;789090;7597...  \n",
       "706  770407;770407;770419;809439;770574;770574;9398...  \n",
       "630  766047;981159;984924;947613;952168;842684;9844...  "
      ]
     },
     "execution_count": 3,
     "metadata": {},
     "output_type": "execute_result"
    }
   ],
   "source": [
    "df.sort_values(by=[\"qtdade_licitacoes_que_figurou_com_alguem_com_vinculo\"], ascending=False).head(10)"
   ]
  }
 ],
 "metadata": {
  "interpreter": {
   "hash": "916dbcbb3f70747c44a77c7bcd40155683ae19c65e1c03b4aa3499c5328201f1"
  },
  "kernelspec": {
   "display_name": "Python 3 (ipykernel)",
   "language": "python",
   "name": "python3"
  },
  "language_info": {
   "codemirror_mode": {
    "name": "ipython",
    "version": 3
   },
   "file_extension": ".py",
   "mimetype": "text/x-python",
   "name": "python",
   "nbconvert_exporter": "python",
   "pygments_lexer": "ipython3",
   "version": "3.8.10"
  }
 },
 "nbformat": 4,
 "nbformat_minor": 2
}
