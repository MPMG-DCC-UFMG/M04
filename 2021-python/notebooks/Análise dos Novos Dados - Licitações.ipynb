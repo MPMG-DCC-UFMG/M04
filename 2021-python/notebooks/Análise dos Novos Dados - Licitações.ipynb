{
 "cells": [
  {
   "cell_type": "code",
   "execution_count": 91,
   "id": "f127d34e",
   "metadata": {},
   "outputs": [],
   "source": [
    "import pandas as pd\n",
    "import matplotlib.pyplot as plt"
   ]
  },
  {
   "cell_type": "markdown",
   "id": "10cb7b24",
   "metadata": {},
   "source": [
    "## Leitura do CSV"
   ]
  },
  {
   "cell_type": "code",
   "execution_count": 152,
   "id": "0d9846e4",
   "metadata": {},
   "outputs": [
    {
     "name": "stderr",
     "output_type": "stream",
     "text": [
      "/mnt/c/Programming/IC/M04/2021-python/venv/lib/python3.8/site-packages/IPython/core/interactiveshell.py:3444: DtypeWarning: Columns (50,51,52,53,54) have mixed types.Specify dtype option on import or set low_memory=False.\n",
      "  exec(code_obj, self.user_global_ns, self.user_ns)\n"
     ]
    }
   ],
   "source": [
    "df = pd.read_csv('../data/input/read-database-licitacao.csv', delimiter = ';')"
   ]
  },
  {
   "cell_type": "markdown",
   "id": "b6e8285a",
   "metadata": {},
   "source": [
    "## Filtragem das Licitações por Cidade"
   ]
  },
  {
   "cell_type": "markdown",
   "id": "a15ad18f",
   "metadata": {},
   "source": [
    "### Número de Licitações Por Cidade"
   ]
  },
  {
   "cell_type": "markdown",
   "id": "986bcc56",
   "metadata": {},
   "source": [
    "#### Tabela"
   ]
  },
  {
   "cell_type": "code",
   "execution_count": 196,
   "id": "442e159b",
   "metadata": {},
   "outputs": [
    {
     "data": {
      "text/html": [
       "<div>\n",
       "<style scoped>\n",
       "    .dataframe tbody tr th:only-of-type {\n",
       "        vertical-align: middle;\n",
       "    }\n",
       "\n",
       "    .dataframe tbody tr th {\n",
       "        vertical-align: top;\n",
       "    }\n",
       "\n",
       "    .dataframe thead th {\n",
       "        text-align: right;\n",
       "    }\n",
       "</style>\n",
       "<table border=\"1\" class=\"dataframe\">\n",
       "  <thead>\n",
       "    <tr style=\"text-align: right;\">\n",
       "      <th></th>\n",
       "      <th>Nome da Cidade</th>\n",
       "      <th>Número de Licitações</th>\n",
       "    </tr>\n",
       "  </thead>\n",
       "  <tbody>\n",
       "    <tr>\n",
       "      <th>0</th>\n",
       "      <td>ABADIA DOS DOURADOS</td>\n",
       "      <td>297</td>\n",
       "    </tr>\n",
       "    <tr>\n",
       "      <th>1</th>\n",
       "      <td>ABAETE</td>\n",
       "      <td>357</td>\n",
       "    </tr>\n",
       "    <tr>\n",
       "      <th>2</th>\n",
       "      <td>ABRE CAMPO</td>\n",
       "      <td>378</td>\n",
       "    </tr>\n",
       "    <tr>\n",
       "      <th>3</th>\n",
       "      <td>ACAIACA</td>\n",
       "      <td>345</td>\n",
       "    </tr>\n",
       "    <tr>\n",
       "      <th>4</th>\n",
       "      <td>ACUCENA</td>\n",
       "      <td>303</td>\n",
       "    </tr>\n",
       "    <tr>\n",
       "      <th>...</th>\n",
       "      <td>...</td>\n",
       "      <td>...</td>\n",
       "    </tr>\n",
       "    <tr>\n",
       "      <th>848</th>\n",
       "      <td>VIRGINOPOLIS</td>\n",
       "      <td>331</td>\n",
       "    </tr>\n",
       "    <tr>\n",
       "      <th>849</th>\n",
       "      <td>VIRGOLANDIA</td>\n",
       "      <td>122</td>\n",
       "    </tr>\n",
       "    <tr>\n",
       "      <th>850</th>\n",
       "      <td>VISCONDE DO RIO BRANCO</td>\n",
       "      <td>603</td>\n",
       "    </tr>\n",
       "    <tr>\n",
       "      <th>851</th>\n",
       "      <td>VOLTA GRANDE</td>\n",
       "      <td>266</td>\n",
       "    </tr>\n",
       "    <tr>\n",
       "      <th>852</th>\n",
       "      <td>WENCESLAU BRAZ</td>\n",
       "      <td>279</td>\n",
       "    </tr>\n",
       "  </tbody>\n",
       "</table>\n",
       "<p>853 rows × 2 columns</p>\n",
       "</div>"
      ],
      "text/plain": [
       "             Nome da Cidade  Número de Licitações\n",
       "0       ABADIA DOS DOURADOS                   297\n",
       "1                    ABAETE                   357\n",
       "2                ABRE CAMPO                   378\n",
       "3                   ACAIACA                   345\n",
       "4                   ACUCENA                   303\n",
       "..                      ...                   ...\n",
       "848            VIRGINOPOLIS                   331\n",
       "849             VIRGOLANDIA                   122\n",
       "850  VISCONDE DO RIO BRANCO                   603\n",
       "851            VOLTA GRANDE                   266\n",
       "852          WENCESLAU BRAZ                   279\n",
       "\n",
       "[853 rows x 2 columns]"
      ]
     },
     "execution_count": 196,
     "metadata": {},
     "output_type": "execute_result"
    }
   ],
   "source": [
    "licitacoesPorCidade = df[['nome_cidade_show', 'id_licitacao']].rename({'nome_cidade_show': 'Nome da Cidade'}, axis='columns').groupby(['Nome da Cidade']).size().reset_index(name=\"Número de Licitações\")\n",
    "licitacoesPorCidade"
   ]
  },
  {
   "cell_type": "markdown",
   "id": "b18d35dd",
   "metadata": {},
   "source": [
    "#### Gráfico"
   ]
  },
  {
   "cell_type": "code",
   "execution_count": 184,
   "id": "2c4e66c6",
   "metadata": {},
   "outputs": [
    {
     "data": {
      "text/plain": [
       "<AxesSubplot:xlabel='Municípios', ylabel='Número de Licitações'>"
      ]
     },
     "execution_count": 184,
     "metadata": {},
     "output_type": "execute_result"
    },
    {
     "data": {
      "image/png": "[encoded data removed]",
      "text/plain": [
       "<Figure size 1440x576 with 1 Axes>"
      ]
     },
     "metadata": {
      "needs_background": "light"
     },
     "output_type": "display_data"
    }
   ],
   "source": [
    "plotagemGraficoCidade = licitacoesPorCidade.sort_values(by = ['Número de Licitações'], ascending = False).plot(x = \"Nome da Cidade\", y = 'Número de Licitações', kind=\"area\", figsize=(20, 8))\n",
    "plotagemGraficoCidade.set_xticklabels([])\n",
    "plotagemGraficoModalidade.xaxis.label.set_size(15)\n",
    "plotagemGraficoModalidade.yaxis.label.set_size(15)\n",
    "plotagemGraficoCidade.set_xlabel('Municípios')\n",
    "plotagemGraficoCidade.set_ylabel('Número de Licitações')\n",
    "plotagemGraficoCidade"
   ]
  },
  {
   "cell_type": "markdown",
   "id": "c07bd0ce",
   "metadata": {},
   "source": [
    "### Top 10 Cidades com Mais Licitações"
   ]
  },
  {
   "cell_type": "code",
   "execution_count": 202,
   "id": "1ac8ece4",
   "metadata": {
    "scrolled": true
   },
   "outputs": [
    {
     "data": {
      "text/html": [
       "<div>\n",
       "<style scoped>\n",
       "    .dataframe tbody tr th:only-of-type {\n",
       "        vertical-align: middle;\n",
       "    }\n",
       "\n",
       "    .dataframe tbody tr th {\n",
       "        vertical-align: top;\n",
       "    }\n",
       "\n",
       "    .dataframe thead th {\n",
       "        text-align: right;\n",
       "    }\n",
       "</style>\n",
       "<table border=\"1\" class=\"dataframe\">\n",
       "  <thead>\n",
       "    <tr style=\"text-align: right;\">\n",
       "      <th></th>\n",
       "      <th>Nome da Cidade</th>\n",
       "      <th>Número de Licitações</th>\n",
       "    </tr>\n",
       "  </thead>\n",
       "  <tbody>\n",
       "    <tr>\n",
       "      <th>824</th>\n",
       "      <td>UBERLANDIA</td>\n",
       "      <td>4962</td>\n",
       "    </tr>\n",
       "    <tr>\n",
       "      <th>65</th>\n",
       "      <td>BELO HORIZONTE</td>\n",
       "      <td>4286</td>\n",
       "    </tr>\n",
       "    <tr>\n",
       "      <th>823</th>\n",
       "      <td>UBERABA</td>\n",
       "      <td>3429</td>\n",
       "    </tr>\n",
       "    <tr>\n",
       "      <th>605</th>\n",
       "      <td>POCOS DE CALDAS</td>\n",
       "      <td>3065</td>\n",
       "    </tr>\n",
       "    <tr>\n",
       "      <th>506</th>\n",
       "      <td>MURIAE</td>\n",
       "      <td>2582</td>\n",
       "    </tr>\n",
       "    <tr>\n",
       "      <th>834</th>\n",
       "      <td>VARGINHA</td>\n",
       "      <td>2302</td>\n",
       "    </tr>\n",
       "    <tr>\n",
       "      <th>493</th>\n",
       "      <td>MONTE ALEGRE DE MINAS</td>\n",
       "      <td>1852</td>\n",
       "    </tr>\n",
       "    <tr>\n",
       "      <th>382</th>\n",
       "      <td>ITAUNA</td>\n",
       "      <td>1738</td>\n",
       "    </tr>\n",
       "    <tr>\n",
       "      <th>362</th>\n",
       "      <td>ITABIRITO</td>\n",
       "      <td>1653</td>\n",
       "    </tr>\n",
       "    <tr>\n",
       "      <th>280</th>\n",
       "      <td>EXTREMA</td>\n",
       "      <td>1644</td>\n",
       "    </tr>\n",
       "  </tbody>\n",
       "</table>\n",
       "</div>"
      ],
      "text/plain": [
       "            Nome da Cidade  Número de Licitações\n",
       "824             UBERLANDIA                  4962\n",
       "65          BELO HORIZONTE                  4286\n",
       "823                UBERABA                  3429\n",
       "605        POCOS DE CALDAS                  3065\n",
       "506                 MURIAE                  2582\n",
       "834               VARGINHA                  2302\n",
       "493  MONTE ALEGRE DE MINAS                  1852\n",
       "382                 ITAUNA                  1738\n",
       "362              ITABIRITO                  1653\n",
       "280                EXTREMA                  1644"
      ]
     },
     "execution_count": 202,
     "metadata": {},
     "output_type": "execute_result"
    }
   ],
   "source": [
    "licitacoesPorCidade.sort_values(by = ['Número de Licitações'], ascending = False).head(10)"
   ]
  },
  {
   "cell_type": "markdown",
   "id": "46b7fc35",
   "metadata": {},
   "source": [
    "### Top 10 Cidades com Menos Licitações"
   ]
  },
  {
   "cell_type": "code",
   "execution_count": 201,
   "id": "29f76c80",
   "metadata": {},
   "outputs": [
    {
     "data": {
      "text/html": [
       "<div>\n",
       "<style scoped>\n",
       "    .dataframe tbody tr th:only-of-type {\n",
       "        vertical-align: middle;\n",
       "    }\n",
       "\n",
       "    .dataframe tbody tr th {\n",
       "        vertical-align: top;\n",
       "    }\n",
       "\n",
       "    .dataframe thead th {\n",
       "        text-align: right;\n",
       "    }\n",
       "</style>\n",
       "<table border=\"1\" class=\"dataframe\">\n",
       "  <thead>\n",
       "    <tr style=\"text-align: right;\">\n",
       "      <th></th>\n",
       "      <th>Nome da Cidade</th>\n",
       "      <th>Número de Licitações</th>\n",
       "    </tr>\n",
       "  </thead>\n",
       "  <tbody>\n",
       "    <tr>\n",
       "      <th>845</th>\n",
       "      <td>VIEIRAS</td>\n",
       "      <td>18</td>\n",
       "    </tr>\n",
       "    <tr>\n",
       "      <th>33</th>\n",
       "      <td>ANTONIO PRADO DE MINAS</td>\n",
       "      <td>57</td>\n",
       "    </tr>\n",
       "    <tr>\n",
       "      <th>772</th>\n",
       "      <td>SENADOR CORTES</td>\n",
       "      <td>111</td>\n",
       "    </tr>\n",
       "    <tr>\n",
       "      <th>801</th>\n",
       "      <td>TAPIRAI</td>\n",
       "      <td>115</td>\n",
       "    </tr>\n",
       "    <tr>\n",
       "      <th>849</th>\n",
       "      <td>VIRGOLANDIA</td>\n",
       "      <td>122</td>\n",
       "    </tr>\n",
       "    <tr>\n",
       "      <th>150</th>\n",
       "      <td>CARMESIA</td>\n",
       "      <td>122</td>\n",
       "    </tr>\n",
       "    <tr>\n",
       "      <th>402</th>\n",
       "      <td>JENIPAPO DE MINAS</td>\n",
       "      <td>123</td>\n",
       "    </tr>\n",
       "    <tr>\n",
       "      <th>497</th>\n",
       "      <td>MONTE FORMOSO</td>\n",
       "      <td>124</td>\n",
       "    </tr>\n",
       "    <tr>\n",
       "      <th>804</th>\n",
       "      <td>TEIXEIRAS</td>\n",
       "      <td>124</td>\n",
       "    </tr>\n",
       "    <tr>\n",
       "      <th>509</th>\n",
       "      <td>NACIP RAYDAN</td>\n",
       "      <td>126</td>\n",
       "    </tr>\n",
       "  </tbody>\n",
       "</table>\n",
       "</div>"
      ],
      "text/plain": [
       "             Nome da Cidade  Número de Licitações\n",
       "845                 VIEIRAS                    18\n",
       "33   ANTONIO PRADO DE MINAS                    57\n",
       "772          SENADOR CORTES                   111\n",
       "801                 TAPIRAI                   115\n",
       "849             VIRGOLANDIA                   122\n",
       "150                CARMESIA                   122\n",
       "402       JENIPAPO DE MINAS                   123\n",
       "497           MONTE FORMOSO                   124\n",
       "804               TEIXEIRAS                   124\n",
       "509            NACIP RAYDAN                   126"
      ]
     },
     "execution_count": 201,
     "metadata": {},
     "output_type": "execute_result"
    }
   ],
   "source": [
    "licitacoesPorCidade.sort_values(by = ['Número de Licitações']).head(10)"
   ]
  },
  {
   "cell_type": "markdown",
   "id": "676c2b78",
   "metadata": {},
   "source": [
    "## Filtragem das Licitações por Modalidade"
   ]
  },
  {
   "cell_type": "markdown",
   "id": "2ebed751",
   "metadata": {},
   "source": [
    "### Número de Licitações Por Modalidade"
   ]
  },
  {
   "cell_type": "markdown",
   "id": "67fc44f7",
   "metadata": {},
   "source": [
    "#### Tabela"
   ]
  },
  {
   "cell_type": "code",
   "execution_count": 159,
   "id": "d23bd30c",
   "metadata": {},
   "outputs": [
    {
     "data": {
      "text/html": [
       "<div>\n",
       "<style scoped>\n",
       "    .dataframe tbody tr th:only-of-type {\n",
       "        vertical-align: middle;\n",
       "    }\n",
       "\n",
       "    .dataframe tbody tr th {\n",
       "        vertical-align: top;\n",
       "    }\n",
       "\n",
       "    .dataframe thead th {\n",
       "        text-align: right;\n",
       "    }\n",
       "</style>\n",
       "<table border=\"1\" class=\"dataframe\">\n",
       "  <thead>\n",
       "    <tr style=\"text-align: right;\">\n",
       "      <th></th>\n",
       "      <th>Modalidade</th>\n",
       "      <th>Número de Licitações</th>\n",
       "    </tr>\n",
       "  </thead>\n",
       "  <tbody>\n",
       "    <tr>\n",
       "      <th>0</th>\n",
       "      <td>CONCORRENCIA</td>\n",
       "      <td>5627</td>\n",
       "    </tr>\n",
       "    <tr>\n",
       "      <th>1</th>\n",
       "      <td>CONCURSO</td>\n",
       "      <td>88</td>\n",
       "    </tr>\n",
       "    <tr>\n",
       "      <th>2</th>\n",
       "      <td>CONVITE</td>\n",
       "      <td>24588</td>\n",
       "    </tr>\n",
       "    <tr>\n",
       "      <th>3</th>\n",
       "      <td>LEILAO</td>\n",
       "      <td>667</td>\n",
       "    </tr>\n",
       "    <tr>\n",
       "      <th>4</th>\n",
       "      <td>PREGAO ELETRONICO</td>\n",
       "      <td>18947</td>\n",
       "    </tr>\n",
       "    <tr>\n",
       "      <th>5</th>\n",
       "      <td>PREGAO PRESENCIAL</td>\n",
       "      <td>286243</td>\n",
       "    </tr>\n",
       "    <tr>\n",
       "      <th>6</th>\n",
       "      <td>TOMADA DE PRECOS</td>\n",
       "      <td>27412</td>\n",
       "    </tr>\n",
       "  </tbody>\n",
       "</table>\n",
       "</div>"
      ],
      "text/plain": [
       "          Modalidade  Número de Licitações\n",
       "0       CONCORRENCIA                  5627\n",
       "1           CONCURSO                    88\n",
       "2            CONVITE                 24588\n",
       "3             LEILAO                   667\n",
       "4  PREGAO ELETRONICO                 18947\n",
       "5  PREGAO PRESENCIAL                286243\n",
       "6   TOMADA DE PRECOS                 27412"
      ]
     },
     "execution_count": 159,
     "metadata": {},
     "output_type": "execute_result"
    }
   ],
   "source": [
    "licitacoesPorModalidade = df[['nome_modalidade_show', 'id_licitacao']].rename({'nome_modalidade_show': 'Modalidade'}, axis='columns').groupby(['Modalidade']).size().reset_index(name=\"Número de Licitações\")\n",
    "licitacoesPorModalidade"
   ]
  },
  {
   "cell_type": "markdown",
   "id": "367fe6bb",
   "metadata": {},
   "source": [
    "#### Gráfico"
   ]
  },
  {
   "cell_type": "code",
   "execution_count": 183,
   "id": "a26e8dee",
   "metadata": {},
   "outputs": [
    {
     "data": {
      "text/plain": [
       "<AxesSubplot:xlabel='Municípios', ylabel='Número de Licitações'>"
      ]
     },
     "execution_count": 183,
     "metadata": {},
     "output_type": "execute_result"
    },
    {
     "data": {
      "image/png": "[encoded data removed]",
      "text/plain": [
       "<Figure size 720x576 with 1 Axes>"
      ]
     },
     "metadata": {
      "needs_background": "light"
     },
     "output_type": "display_data"
    }
   ],
   "source": [
    "plotagemGraficoModalidade = licitacoesPorModalidade.sort_values(by = ['Número de Licitações'], ascending = False).plot(x = \"Modalidade\", y = 'Número de Licitações', kind=\"bar\", figsize=(10, 8))\n",
    "plotagemGraficoModalidade.set_xlabel('Municípios')\n",
    "plotagemGraficoModalidade.set_ylabel('Número de Licitações')\n",
    "plotagemGraficoModalidade.xaxis.label.set_size(15)\n",
    "plotagemGraficoModalidade.yaxis.label.set_size(15)\n",
    "plotagemGraficoModalidade.tick_params(axis='x', labelrotation=45)\n",
    "plotagemGraficoModalidade"
   ]
  },
  {
   "cell_type": "markdown",
   "id": "b9e7e094",
   "metadata": {},
   "source": [
    "## Filtragem das Licitações por Ano"
   ]
  },
  {
   "cell_type": "markdown",
   "id": "0b2d2782",
   "metadata": {},
   "source": [
    "### Número de Licitações Por Ano"
   ]
  },
  {
   "cell_type": "markdown",
   "id": "abe126b5",
   "metadata": {},
   "source": [
    "#### Tabela"
   ]
  },
  {
   "cell_type": "code",
   "execution_count": 204,
   "id": "ab8b43a9",
   "metadata": {},
   "outputs": [
    {
     "data": {
      "text/html": [
       "<div>\n",
       "<style scoped>\n",
       "    .dataframe tbody tr th:only-of-type {\n",
       "        vertical-align: middle;\n",
       "    }\n",
       "\n",
       "    .dataframe tbody tr th {\n",
       "        vertical-align: top;\n",
       "    }\n",
       "\n",
       "    .dataframe thead th {\n",
       "        text-align: right;\n",
       "    }\n",
       "</style>\n",
       "<table border=\"1\" class=\"dataframe\">\n",
       "  <thead>\n",
       "    <tr style=\"text-align: right;\">\n",
       "      <th></th>\n",
       "      <th>Ano da Licitação</th>\n",
       "      <th>Número de Licitações</th>\n",
       "    </tr>\n",
       "  </thead>\n",
       "  <tbody>\n",
       "    <tr>\n",
       "      <th>13</th>\n",
       "      <td>2020</td>\n",
       "      <td>28843</td>\n",
       "    </tr>\n",
       "    <tr>\n",
       "      <th>12</th>\n",
       "      <td>2019</td>\n",
       "      <td>54426</td>\n",
       "    </tr>\n",
       "    <tr>\n",
       "      <th>11</th>\n",
       "      <td>2018</td>\n",
       "      <td>55622</td>\n",
       "    </tr>\n",
       "    <tr>\n",
       "      <th>10</th>\n",
       "      <td>2017</td>\n",
       "      <td>60876</td>\n",
       "    </tr>\n",
       "    <tr>\n",
       "      <th>9</th>\n",
       "      <td>2016</td>\n",
       "      <td>44382</td>\n",
       "    </tr>\n",
       "    <tr>\n",
       "      <th>8</th>\n",
       "      <td>2015</td>\n",
       "      <td>52243</td>\n",
       "    </tr>\n",
       "    <tr>\n",
       "      <th>7</th>\n",
       "      <td>2014</td>\n",
       "      <td>62861</td>\n",
       "    </tr>\n",
       "    <tr>\n",
       "      <th>6</th>\n",
       "      <td>2013</td>\n",
       "      <td>4157</td>\n",
       "    </tr>\n",
       "    <tr>\n",
       "      <th>5</th>\n",
       "      <td>2012</td>\n",
       "      <td>64</td>\n",
       "    </tr>\n",
       "    <tr>\n",
       "      <th>4</th>\n",
       "      <td>2011</td>\n",
       "      <td>43</td>\n",
       "    </tr>\n",
       "    <tr>\n",
       "      <th>3</th>\n",
       "      <td>2010</td>\n",
       "      <td>20</td>\n",
       "    </tr>\n",
       "    <tr>\n",
       "      <th>2</th>\n",
       "      <td>2009</td>\n",
       "      <td>29</td>\n",
       "    </tr>\n",
       "    <tr>\n",
       "      <th>1</th>\n",
       "      <td>2008</td>\n",
       "      <td>5</td>\n",
       "    </tr>\n",
       "    <tr>\n",
       "      <th>0</th>\n",
       "      <td>2007</td>\n",
       "      <td>1</td>\n",
       "    </tr>\n",
       "  </tbody>\n",
       "</table>\n",
       "</div>"
      ],
      "text/plain": [
       "    Ano da Licitação  Número de Licitações\n",
       "13              2020                 28843\n",
       "12              2019                 54426\n",
       "11              2018                 55622\n",
       "10              2017                 60876\n",
       "9               2016                 44382\n",
       "8               2015                 52243\n",
       "7               2014                 62861\n",
       "6               2013                  4157\n",
       "5               2012                    64\n",
       "4               2011                    43\n",
       "3               2010                    20\n",
       "2               2009                    29\n",
       "1               2008                     5\n",
       "0               2007                     1"
      ]
     },
     "execution_count": 204,
     "metadata": {},
     "output_type": "execute_result"
    }
   ],
   "source": [
    "licitacoesPorAno = df[['ano_processo', 'id_licitacao']].rename({'ano_processo': 'Ano da Licitação'}, axis='columns').groupby(['Ano da Licitação']).size().reset_index(name=\"Número de Licitações\").sort_values(by = ['Ano da Licitação'], ascending = False)\n",
    "licitacoesPorAno"
   ]
  },
  {
   "cell_type": "markdown",
   "id": "ee163966",
   "metadata": {},
   "source": [
    "#### Gráfico"
   ]
  },
  {
   "cell_type": "code",
   "execution_count": 195,
   "id": "f24b2bd0",
   "metadata": {},
   "outputs": [
    {
     "data": {
      "text/plain": [
       "<AxesSubplot:xlabel='Ano da Licitação', ylabel='Número de Licitações'>"
      ]
     },
     "execution_count": 195,
     "metadata": {},
     "output_type": "execute_result"
    },
    {
     "data": {
      "image/png": "[encoded data removed]",
      "text/plain": [
       "<Figure size 720x576 with 1 Axes>"
      ]
     },
     "metadata": {
      "needs_background": "light"
     },
     "output_type": "display_data"
    }
   ],
   "source": [
    "plotagemGraficoAno = licitacoesPorAno.sort_values(by = ['Ano da Licitação']).plot(x = \"Ano da Licitação\", y = 'Número de Licitações', kind=\"bar\", figsize=(10, 8))\n",
    "plotagemGraficoAno.set_xlabel('Ano da Licitação')\n",
    "plotagemGraficoAno.set_ylabel('Número de Licitações')\n",
    "plotagemGraficoAno.xaxis.label.set_size(15)\n",
    "plotagemGraficoAno.yaxis.label.set_size(15)\n",
    "plotagemGraficoAno.tick_params(axis='x', labelrotation=45)\n",
    "plotagemGraficoAno"
   ]
  },
  {
   "cell_type": "code",
   "execution_count": null,
   "id": "6618d85b",
   "metadata": {},
   "outputs": [],
   "source": []
  }
 ],
 "metadata": {
  "kernelspec": {
   "display_name": "Python 3 (ipykernel)",
   "language": "python",
   "name": "python3"
  },
  "language_info": {
   "codemirror_mode": {
    "name": "ipython",
    "version": 3
   },
   "file_extension": ".py",
   "mimetype": "text/x-python",
   "name": "python",
   "nbconvert_exporter": "python",
   "pygments_lexer": "ipython3",
   "version": "3.8.10"
  }
 },
 "nbformat": 4,
 "nbformat_minor": 5
}
