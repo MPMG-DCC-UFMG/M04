{
 "cells": [
  {
   "cell_type": "markdown",
   "metadata": {},
   "source": [
    "#  Análise do código"
   ]
  },
  {
   "cell_type": "markdown",
   "metadata": {},
   "source": [
    "## Funções declaradas antes de _Main_"
   ]
  },
  {
   "source": [
    "### 1. imprime_caracterizacao_estatistica_itens_dicionario"
   ],
   "cell_type": "markdown",
   "metadata": {}
  },
  {
   "source": [
    "### 2. carrega_dicionarios_principais"
   ],
   "cell_type": "markdown",
   "metadata": {}
  },
  {
   "source": [
    "### 3. conta_quantos_cnpjs_estao_relacionados"
   ],
   "cell_type": "markdown",
   "metadata": {}
  },
  {
   "source": [
    "### 4. lista_cliques_cnpjs"
   ],
   "cell_type": "markdown",
   "metadata": {}
  },
  {
   "source": [
    "### 5. gera_grafos"
   ],
   "cell_type": "markdown",
   "metadata": {}
  },
  {
   "source": [
    "### 6. imprime_quantidade_de_itens_para_cada_item_dicionario"
   ],
   "cell_type": "markdown",
   "metadata": {}
  },
  {
   "source": [
    "### 7. identifica_cnpjs_aparecendo_juntos_em_licitacoes"
   ],
   "cell_type": "markdown",
   "metadata": {}
  },
  {
   "source": [
    "### 8. imprime_dict_registro_cnpjs_aparecendo_juntos_em_licitacoes_sumarizado"
   ],
   "cell_type": "markdown",
   "metadata": {}
  },
  {
   "cell_type": "markdown",
   "metadata": {},
   "source": [
    "## Main"
   ]
  },
  {
   "source": [
    "### 1. Carregamento dos dicionários\n",
    "\n",
    "        df_licitacoes = pd.read_csv(\n",
    "                arquivo_licitacoes_cnpjs_licitantes, delimiter=';', dtype={'num_documento': object})\n",
    "            df_info_licitacoes = pd.read_csv(\n",
    "                arquivo_infos_licitacoes, delimiter=';', dtype={'num_documento': object})\n",
    "            carrega_dicionarios_principais(df_licitacoes, df_info_licitacoes, dict_licitacoes,\n",
    "                                        dict_cnpjs_licitacoes, dict_cnpjs_relacionados_diretamente, dict_info_licitacoes)"
   ],
   "cell_type": "markdown",
   "metadata": {}
  },
  {
   "source": [
    "### 2. Caracterização dos dicionários, impressão dos resultados\n",
    "\n",
    "        caracterizacao_dict_licitacoes = caracterizacao_estatistica_qtdade_itens_dicionario(\n",
    "                dict_licitacoes)\n",
    "            imprime_quantidade_de_itens_para_cada_item_dicionario(\n",
    "                dict_licitacoes, 'relatorios/CNPJs_POR_LICITACAO_RAW_MG.csv', 'licitacao;qtdade;cnpjs')\n",
    "            imprime_caracterizacao_estatistica_itens_dicionario(caracterizacao_dict_licitacoes,\n",
    "                                                                'quantidade de CNPJs por licitação', 'CNPJs/licitação', 'Qtdade Licitações', [1, 2, 3, 4, 5, 6, 7, 8, 9, 10, 11, 12, 13, 14, 15, 16, 17, 18, 19, 20, 21, 22, 23, 24, 25, 5000], 'graficos/cnpjs_por_licitacao.png', 'relatorios/CNPJs_POR_LICITACAO-MG.csv')\n",
    "\n",
    "            caracterizacao_dict_cnpjs_licitacoes = caracterizacao_estatistica_qtdade_itens_dicionario(\n",
    "                dict_cnpjs_licitacoes)\n",
    "            imprime_quantidade_de_itens_para_cada_item_dicionario(\n",
    "                dict_cnpjs_licitacoes, 'relatorios/QTDADE_LICITACOES_POR_CNPJ_RAW_MG.csv', 'cnpj;qtdade;licitacoes')\n",
    "            imprime_caracterizacao_estatistica_itens_dicionario(caracterizacao_dict_cnpjs_licitacoes,\n",
    "                                                                'licitações por CNPJ', 'licitações/cnpj', 'quantidade licitações', [1, 2, 3, 4, 5, 6, 7, 8, 9, 10, 11, 12, 13, 14, 15, 16, 17, 18, 19, 20, 21, 22, 23, 24, 25, 5000], 'graficos/licitacoes_por_cnpj.png', 'relatorios/QTDADE_LICITACOES_POR_CNPJ-MG.csv')\n"
   ],
   "cell_type": "markdown",
   "metadata": {}
  },
  {
   "source": [
    "### 3. Sumário de CNPJs aparecendo juntos em licitações\n",
    "\n",
    "        dict_registro_cnpjs_aparecendo_juntos_em_licitacoes_sumarizado = identifica_cnpjs_aparecendo_juntos_em_licitacoes(\n",
    "                dict_licitacoes, dict_cnpjs_licitacoes, 'relatorios/CNPJs_APARECENDO_JUNTOS_EM_LICITACOES.csv')\n",
    "            caracterizacao_dict_registro_cnpjs_aparecendo_juntos_em_licitacoes_sumarizado = caracterizacao_estatistica_qtdade_itens_dicionario(\n",
    "                dict_registro_cnpjs_aparecendo_juntos_em_licitacoes_sumarizado)\n",
    "            imprime_dict_registro_cnpjs_aparecendo_juntos_em_licitacoes_sumarizado(\n",
    "                dict_registro_cnpjs_aparecendo_juntos_em_licitacoes_sumarizado, dict_cnpjs_licitacoes, 'relatorios/CNPJs_APARECENDO_JUNTOS_EM_LICITACOES_SUMARIZADO.csv')\n",
    "            imprime_caracterizacao_estatistica_itens_dicionario(caracterizacao_dict_registro_cnpjs_aparecendo_juntos_em_licitacoes_sumarizado,\n",
    "                                                                'CNPJs aparecendo juntos em licitações', 'nao sei', 'quantidade licitações', [1, 2, 3, 4, 5, 6, 7, 8, 9, 10, 11, 12, 13, 14, 15, 16, 17, 18, 19, 20, 21, 22, 23, 24, 25, 5000], 'graficos/cnpjs_aparecendo_juntos.png', 'relatorios/QTDADE_CNPJS_APARECENDO_JUNTOS_LICITACOES.csv')\n"
   ],
   "cell_type": "markdown",
   "metadata": {}
  },
  {
   "source": [
    "### 4. Tratamento do arquivo de relações\n",
    "\n",
    "        print('reading relations file')\n",
    "            arquivo_relacao_cnpjs = open(arquivo_relacoes_entre_cnpjs, 'r')\n",
    "            reader = csv.reader(arquivo_relacao_cnpjs, delimiter=' ')\n",
    "            dict_qtdade_relacoes_cnpj = {}\n",
    "            for linha in reader:\n",
    "                cnpj1 = int(linha[0])\n",
    "                cnpj2 = int(linha[1])\n",
    "\n",
    "                if cnpj1 in dict_cnpjs_relacionados_diretamente:\n",
    "                    if cnpj2 not in dict_cnpjs_relacionados_diretamente[cnpj1]:\n",
    "                        dict_cnpjs_relacionados_diretamente[cnpj1].append(cnpj2)\n",
    "                    if cnpj1 not in dict_qtdade_relacoes_cnpj:\n",
    "                        dict_qtdade_relacoes_cnpj[cnpj1] = 1\n",
    "                    else:\n",
    "                        dict_qtdade_relacoes_cnpj[cnpj1] += 1\n",
    "            arquivo_relacao_cnpjs.close()\n",
    "\n",
    "            caracterizacao_dict_cnpjs_relacionados_diretamente = caracterizacao_estatistica_qtdade_itens_dicionario(\n",
    "                dict_cnpjs_relacionados_diretamente)\n",
    "            imprime_quantidade_de_itens_para_cada_item_dicionario(\n",
    "                dict_cnpjs_relacionados_diretamente, 'relatorios/CNPJs_COM_VINCULO_COMUM_RAW_MG.csv', 'cnpj;qtdade;cnpjs com relacao societaria')\n",
    "            imprime_caracterizacao_estatistica_itens_dicionario(caracterizacao_dict_cnpjs_relacionados_diretamente,\n",
    "                                                                'CNPJs com vínculo', 'tem que ver', 'quantidade', [1, 2, 3, 4, 5, 6, 7, 8, 9, 10, 11, 12, 13, 14, 15, 16, 17, 18, 19, 20, 21, 22, 23, 24, 25, 5000], 'graficos/cnpjs_com_vinculos.png', 'relatorios/CNPJs_COM_RELACAO_SOCIETARIA_COMUM-MG.csv')\n",
    "\n"
   ],
   "cell_type": "markdown",
   "metadata": {}
  },
  {
   "source": [
    "### 5. Análise de licitações\n",
    "#### \"para cada licitacao, indicar a quantidade de cnpjs com relacao entre si dentro da licitacao\"\n",
    "\n",
    "        lista_ranking_cnpj_versus_cnpj_relacionados = []\n",
    "            lista_final_respostas_cnpjs = []\n",
    "            lista_grafos_licitacoes = []\n",
    "            lista_cliques_licitacoes = []\n",
    "            for k in dict_licitacoes.keys():\n",
    "                lista_cnpjs = dict_licitacoes[k]\n",
    "                G, l, max, density = conta_quantos_cnpjs_estao_relacionados(\n",
    "                    k, lista_cnpjs, dict_cnpjs_relacionados_diretamente, dict_info_licitacoes, True)\n",
    "                lista_final_respostas_cnpjs.append(l)\n",
    "                lista_grafos_licitacoes.append([k, G, max, density])\n",
    "\n",
    "                item_lista_clique = lista_cliques_cnpjs(k, G, clique_minima)\n",
    "                # print(item_lista_clique)\n",
    "                if item_lista_clique[1] > 0:\n",
    "                    lista_cliques_licitacoes.append(item_lista_clique)\n",
    "                lista_cliques_licitacoes.sort(key=lambda x: x[1], reverse=True)\n",
    "            fout = open('relatorios/RELATORIO_CLIQUES_CNPJ.csv', 'w')\n",
    "            fout.write('chave;qtdade_cliques;tam_clique;vertices;\\n')\n",
    "            for item in lista_cliques_licitacoes:\n",
    "                fout.write(str(item))\n",
    "                fout.write(\"\\n\")\n",
    "            fout.close()\n",
    "\n",
    "            print('fim analise licitacoes')"
   ],
   "cell_type": "markdown",
   "metadata": {}
  },
  {
   "source": [
    "### 6. Criação do relatório \"Grafos por licitação\"\n",
    "\n",
    "        lista_final_respostas_cnpjs.sort(key=lambda x: x[3], reverse=True)\n",
    "            lista_grafos_licitacoes.sort(key=lambda x: x[3], reverse=True)\n",
    "            fout = open('relatorios/RELATORIO_GRAFOS_POR_LICITACAO.csv', 'w')\n",
    "            fout.write('seq_dim_licitacao;arestas;vertices;densidade;max_clique;municipio;estado;tipo;identificador;ano;descricao;valor;vertices_clique;\\n')\n",
    "            for linha in lista_final_respostas_cnpjs:\n",
    "                for item in linha:\n",
    "                    fout.write(str(item)+';')\n",
    "                fout.write('\\n')\n",
    "            fout.close()\n"
   ],
   "cell_type": "markdown",
   "metadata": {}
  },
  {
   "source": [
    "### 7. Criação do dicionário de licitações por município\n",
    "\n",
    "        dict_municipios_licitacoes = {}\n",
    "            dict_municipios_cnpjs_licitacoes = {}\n",
    "            for k in dict_info_licitacoes:\n",
    "                municipio = dict_info_licitacoes[k][INFO_LICITACAO_MUNICIPIO]\n",
    "                licitacao = k\n",
    "                if municipio not in dict_municipios_licitacoes:\n",
    "                    dict_municipios_licitacoes[municipio] = []\n",
    "                    dict_municipios_cnpjs_licitacoes[municipio] = []\n",
    "                if k not in dict_municipios_licitacoes[municipio]:\n",
    "                    dict_municipios_licitacoes[municipio].append(k)\n",
    "\n",
    "            imprime_quantidade_de_itens_para_cada_item_dicionario(\n",
    "                dict_municipios_licitacoes, 'relatorios/LICITACOES_POR_MUNICIPIO.csv', 'municipio;qtdade;licitacoes')\n",
    "\n"
   ],
   "cell_type": "markdown",
   "metadata": {}
  },
  {
   "source": [
    "### 8. Análise de municípios"
   ],
   "cell_type": "markdown",
   "metadata": {}
  },
  {
   "source": [
    "#### a. \"agora, para cada licitacao que existir, acrescentar os cnpjs\"\n",
    "\n",
    "        for municipio in dict_municipios_licitacoes:\n",
    "        for licitacao in dict_municipios_licitacoes[municipio]:\n",
    "            if licitacao in dict_licitacoes and municipio in dict_municipios_cnpjs_licitacoes:\n",
    "                for item in dict_licitacoes[licitacao]:\n",
    "                    if item not in dict_municipios_cnpjs_licitacoes[municipio]:\n",
    "                        dict_municipios_cnpjs_licitacoes[municipio].append(\n",
    "                            item)\n"
   ],
   "cell_type": "markdown",
   "metadata": {}
  },
  {
   "source": [
    "#### b. \"para cada licitacao, indicar a quantidade de cnpjs com relacao entre si dentro da licitacao\"\n",
    "\n",
    "        lista_grafos_municipio = []\n",
    "            lista_ranking_cnpj_versus_cnpj_relacionados = []\n",
    "            lista_final_respostas_municipios = []\n",
    "            for municipio in dict_municipios_cnpjs_licitacoes.keys():\n",
    "                lista_cnpjs = dict_municipios_cnpjs_licitacoes[municipio]\n",
    "                G, l, max, density = conta_quantos_cnpjs_estao_relacionados(\n",
    "                    municipio, lista_cnpjs, dict_cnpjs_relacionados_diretamente, 0, False)\n",
    "                lista_final_respostas_municipios.append(l)\n",
    "                lista_grafos_municipio.append([municipio, G, max, density])\n"
   ],
   "cell_type": "markdown",
   "metadata": {}
  },
  {
   "source": [
    "#### c. Criação do relatório \"Grafos por município\"\n",
    "\n",
    "        lista_final_respostas_municipios.sort(key=lambda x: x[3], reverse=True)\n",
    "            lista_grafos_municipio.sort(key=lambda x: x[2], reverse=True)\n",
    "            fout = open('relatorios/RELATORIO_GRAFOS_POR_MUNICIPIO.csv', 'w')\n",
    "            fout.write(\n",
    "                'municipio;arestas;vertices;densidade;max_clique;vertices_clique;\\n')\n",
    "            for linha in lista_final_respostas_municipios:\n",
    "                for item in linha:\n",
    "                    fout.write(str(item)+';')\n",
    "                fout.write('\\n')\n",
    "            fout.close()"
   ],
   "cell_type": "markdown",
   "metadata": {}
  },
  {
   "source": [
    "### 9. Geração de grafos\n",
    "\n",
    "        print('gerando grafos de municipios:', len(lista_grafos_municipio))\n",
    "            for i in range(0, min(len(lista_grafos_municipio), 20)):\n",
    "                gera_grafos(lista_grafos_municipio[i][0], 'municipios',\n",
    "                            lista_grafos_municipio[i][1], lista_grafos_municipio[i][2], i, 'png')\n",
    "\n",
    "            print('gerando grafos de licitacoes:', len(lista_grafos_licitacoes))\n",
    "            for i in range(0, min(len(lista_grafos_licitacoes), 20)):\n",
    "                gera_grafos(lista_grafos_licitacoes[i][0], 'licitacoes',\n",
    "                            lista_grafos_licitacoes[i][1], lista_grafos_licitacoes[i][2], i, '.png')"
   ],
   "cell_type": "markdown",
   "metadata": {}
  },
  {
   "cell_type": "code",
   "execution_count": null,
   "metadata": {},
   "outputs": [],
   "source": []
  }
 ],
 "metadata": {
  "kernelspec": {
   "display_name": "Python 3",
   "language": "python",
   "name": "python3"
  },
  "language_info": {
   "codemirror_mode": {
    "name": "ipython",
    "version": 3
   },
   "file_extension": ".py",
   "mimetype": "text/x-python",
   "name": "python",
   "nbconvert_exporter": "python",
   "pygments_lexer": "ipython3",
   "version": "3.8.5"
  }
 },
 "nbformat": 4,
 "nbformat_minor": 2
}