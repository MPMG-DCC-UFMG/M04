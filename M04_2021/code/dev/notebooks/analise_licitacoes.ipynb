{
 "cells": [
  {
   "cell_type": "markdown",
   "metadata": {},
   "source": [
    "# Análise dos grafos de CNPJs por licitação"
   ]
  },
  {
   "cell_type": "code",
   "execution_count": null,
   "metadata": {},
   "outputs": [],
   "source": [
    "import sys\n",
    "sys.path.insert(0, '..')\n",
    "\n",
    "import pandas as pd\n",
    "import plotly.express as px\n",
    "from util import carregamento_dados as cd, ferramentas_grafos as fg"
   ]
  },
  {
   "cell_type": "markdown",
   "metadata": {},
   "source": [
    "Os dados foram previamente gerados pelo script *gera_grafos_licitacoes.py* utilizando funções do pacote graph implementado na pasta util. Os dados são salvos pelo método *pickle* para que se possa salvar em memória externa objetos como grafos que se perderiam em um arquivo .csv"
   ]
  },
  {
   "cell_type": "code",
   "execution_count": null,
   "metadata": {},
   "outputs": [],
   "source": [
    "df = pd.read_pickle('../pickles/licitacoes/licitacoes_com_densidade')\n",
    "df.head(1)"
   ]
  },
  {
   "cell_type": "markdown",
   "metadata": {},
   "source": [
    "Nos dados acima temos a coluna de licitação, o grafo da licitação salvo como objeto nx.Graph(), a lista de cliques desse grafo, a sua densidade. A partir da coluna cliques podemos extrair a max clique ao selecionar o máximo da lista. Isso é feito a seguir:"
   ]
  },
  {
   "cell_type": "code",
   "execution_count": null,
   "metadata": {
    "scrolled": true
   },
   "outputs": [],
   "source": [
    "df['max_clique'] = df['cliques'].apply(\n",
    "    lambda x: fg.calcula_max_clique(x)\n",
    ")\n",
    "df.head(1)"
   ]
  },
  {
   "cell_type": "markdown",
   "metadata": {},
   "source": [
    "Vamos agora gerar algumas visualizações estatísticas em nível estadual."
   ]
  },
  {
   "cell_type": "code",
   "execution_count": null,
   "metadata": {},
   "outputs": [],
   "source": [
    "def plota_histograma_tamanho_max_clique(df):\n",
    "    df = df\n",
    "    fig = px.histogram(df, x='max_clique', log_y=True,\n",
    "                       title=\"Numero de licitacoes por tamanho da max clique\",\n",
    "                       labels={\n",
    "                       'max_clique' : \"tamanho da max clique\"\n",
    "                       }\n",
    "                      )\n",
    "    fig.update_xaxes(visible=True, showticklabels=True)\n",
    "    fig.update_yaxes(title='número de licitacoes')\n",
    "    fig.write_image(\"../images/nmr_licitacoes_por_tamanho_max_clique.jpg\")\n",
    "    fig.show()\n",
    "\n",
    "plota_histograma_tamanho_max_clique(df)"
   ]
  },
  {
   "cell_type": "code",
   "execution_count": null,
   "metadata": {},
   "outputs": [],
   "source": [
    "def plota_histograma_densidade(df):\n",
    "    df = df\n",
    "    fig = px.histogram(df, x='densidade', log_y=True, nbins=100,\n",
    "                       title=\"Número de licitacoes por densidade do grafo\",\n",
    "                       labels={\n",
    "                       'densidade' : \"densidade do grafo\"\n",
    "                       }\n",
    "                      )\n",
    "    fig.update_xaxes(visible=True, showticklabels=True)\n",
    "    fig.update_yaxes(title='número de licitacoes')\n",
    "    fig.write_image(\"../images/nmr_licitacoes_por_tamanho_max_clique.jpg\")\n",
    "    fig.show()\n",
    "\n",
    "plota_histograma_densidade(df)"
   ]
  },
  {
   "cell_type": "code",
   "execution_count": null,
   "metadata": {},
   "outputs": [],
   "source": [
    "df.groupby(['modalidade']).mean()"
   ]
  },
  {
   "cell_type": "code",
   "execution_count": null,
   "metadata": {},
   "outputs": [],
   "source": [
    "def plota_histograma_modalidade(df):\n",
    "    df = df.groupby(['modalidade']).mean()\n",
    "    fig = px.bar(df, x='densidade',\n",
    "                       title=\"Densidade media por modalidade\",\n",
    "                       labels={\n",
    "                       'densidade' : \"densidade do grafo\"\n",
    "                       }\n",
    "                      )\n",
    "    fig.update_xaxes(visible=True, showticklabels=True)\n",
    "    fig.update_yaxes(categoryorder=\"total descending\")\n",
    "    fig.update_yaxes(title='modalidade')\n",
    "    fig.write_image(\"../images/nmr_licitacoes_por_tamanho_max_clique.jpg\")\n",
    "    fig.show()\n",
    "\n",
    "plota_histograma_modalidade(df)"
   ]
  },
  {
   "cell_type": "code",
   "execution_count": null,
   "metadata": {},
   "outputs": [],
   "source": [
    "def plota_histograma_modalidade(df):\n",
    "    df = df.groupby(['modalidade']).mean()\n",
    "    fig = px.bar(df, x='max_clique',\n",
    "                       title=\"Max clique media por modalidade\",\n",
    "                       labels={\n",
    "                       'densidade' : \"densidade do grafo\"\n",
    "                       }\n",
    "                      )\n",
    "    fig.update_xaxes(visible=True, showticklabels=True)\n",
    "    fig.update_yaxes(categoryorder=\"total descending\")\n",
    "    fig.update_yaxes(title='modalidade')\n",
    "    fig.write_image(\"../images/nmr_licitacoes_por_tamanho_max_clique.jpg\")\n",
    "    fig.show()\n",
    "\n",
    "plota_histograma_modalidade(df)"
   ]
  },
  {
   "cell_type": "code",
   "execution_count": null,
   "metadata": {
    "scrolled": true
   },
   "outputs": [],
   "source": [
    "df.groupby(['municipio']).mean()"
   ]
  },
  {
   "cell_type": "code",
   "execution_count": null,
   "metadata": {},
   "outputs": [],
   "source": [
    "def plota_histograma_modalidade(df):\n",
    "    df = df.groupby(['municipio']).mean()\n",
    "    fig = px.bar(df, x='densidade',\n",
    "                       title=\"Densidade media por municipio\",\n",
    "                       labels={\n",
    "                       'densidade' : \"densidade do grafo\"\n",
    "                       }\n",
    "                      )\n",
    "    fig.update_xaxes(visible=True, showticklabels=True)\n",
    "    fig.update_yaxes(categoryorder=\"total descending\")\n",
    "    fig.update_yaxes(title='municipio')\n",
    "    fig.write_image(\"../images/nmr_licitacoes_por_tamanho_max_clique.jpg\")\n",
    "    fig.show()\n",
    "\n",
    "plota_histograma_modalidade(df)"
   ]
  },
  {
   "cell_type": "code",
   "execution_count": null,
   "metadata": {},
   "outputs": [],
   "source": [
    "def plota_histograma_modalidade(df):\n",
    "    df = df.groupby(['municipio']).mean()\n",
    "    fig = px.bar(df, x='max_clique',\n",
    "                       title=\"Max clique media por municipio\",\n",
    "                       labels={\n",
    "                       'densidade' : \"densidade do grafo\"\n",
    "                       }\n",
    "                      )\n",
    "    fig.update_xaxes(visible=True, showticklabels=True)\n",
    "    fig.update_yaxes(categoryorder=\"total descending\")\n",
    "    fig.update_yaxes(title='municipio')\n",
    "    fig.write_image(\"../images/nmr_licitacoes_por_tamanho_max_clique.jpg\")\n",
    "    fig.show()\n",
    "\n",
    "plota_histograma_modalidade(df)"
   ]
  }
 ],
 "metadata": {
  "interpreter": {
   "hash": "916dbcbb3f70747c44a77c7bcd40155683ae19c65e1c03b4aa3499c5328201f1"
  },
  "kernelspec": {
   "display_name": "Python 3",
   "language": "python",
   "name": "python3"
  },
  "language_info": {
   "codemirror_mode": {
    "name": "ipython",
    "version": 3
   },
   "file_extension": ".py",
   "mimetype": "text/x-python",
   "name": "python",
   "nbconvert_exporter": "python",
   "pygments_lexer": "ipython3",
   "version": "3.8.10"
  }
 },
 "nbformat": 4,
 "nbformat_minor": 2
}
