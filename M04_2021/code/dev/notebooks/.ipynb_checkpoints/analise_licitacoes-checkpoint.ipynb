{
 "cells": [
  {
   "cell_type": "markdown",
   "metadata": {},
   "source": [
    "# Análise dos grafos de CNPJs por licitação"
   ]
  },
  {
   "cell_type": "code",
   "execution_count": 1,
   "metadata": {},
   "outputs": [],
   "source": [
    "import sys\n",
    "sys.path.insert(0, '..')\n",
    "\n",
    "import pandas as pd\n",
    "import plotly.express as px\n",
    "from util import carregamento_dados as cd, ferramentas_grafos as fg"
   ]
  },
  {
   "cell_type": "markdown",
   "metadata": {},
   "source": [
    "Os dados foram previamente gerados pelo script *gera_grafos_licitacoes.py* utilizando funções do pacote graph implementado na pasta util. Os dados são salvos pelo método *pickle* para que se possa salvar em memória externa objetos como grafos que se perderiam em um arquivo .csv"
   ]
  },
  {
   "cell_type": "code",
   "execution_count": 2,
   "metadata": {},
   "outputs": [
    {
     "data": {
      "text/html": [
       "<div>\n",
       "<style scoped>\n",
       "    .dataframe tbody tr th:only-of-type {\n",
       "        vertical-align: middle;\n",
       "    }\n",
       "\n",
       "    .dataframe tbody tr th {\n",
       "        vertical-align: top;\n",
       "    }\n",
       "\n",
       "    .dataframe thead th {\n",
       "        text-align: right;\n",
       "    }\n",
       "</style>\n",
       "<table border=\"1\" class=\"dataframe\">\n",
       "  <thead>\n",
       "    <tr style=\"text-align: right;\">\n",
       "      <th></th>\n",
       "      <th>licitacao</th>\n",
       "      <th>grafos</th>\n",
       "      <th>cliques</th>\n",
       "      <th>densidade</th>\n",
       "    </tr>\n",
       "  </thead>\n",
       "  <tbody>\n",
       "    <tr>\n",
       "      <th>0</th>\n",
       "      <td>746396</td>\n",
       "      <td>(19644907000111, 19644880000167, 1970356800010...</td>\n",
       "      <td>[[19925594000170, 19644880000167, 197035680001...</td>\n",
       "      <td>0.227273</td>\n",
       "    </tr>\n",
       "  </tbody>\n",
       "</table>\n",
       "</div>"
      ],
      "text/plain": [
       "  licitacao                                             grafos  \\\n",
       "0    746396  (19644907000111, 19644880000167, 1970356800010...   \n",
       "\n",
       "                                             cliques  densidade  \n",
       "0  [[19925594000170, 19644880000167, 197035680001...   0.227273  "
      ]
     },
     "execution_count": 2,
     "metadata": {},
     "output_type": "execute_result"
    }
   ],
   "source": [
    "df = pd.read_pickle('../pickles/licitacoes/licitacoes_com_densidade')\n",
    "df.head(1)"
   ]
  },
  {
   "cell_type": "markdown",
   "metadata": {},
   "source": [
    "Nos dados acima temos a coluna de licitação, o grafo da licitação salvo como objeto nx.Graph(), a lista de cliques desse grafo, a sua densidade. A partir da coluna cliques podemos extrair a max clique ao selecionar o máximo da lista. Isso é feito a seguir:"
   ]
  },
  {
   "cell_type": "code",
   "execution_count": 3,
   "metadata": {
    "scrolled": true
   },
   "outputs": [
    {
     "data": {
      "text/html": [
       "<div>\n",
       "<style scoped>\n",
       "    .dataframe tbody tr th:only-of-type {\n",
       "        vertical-align: middle;\n",
       "    }\n",
       "\n",
       "    .dataframe tbody tr th {\n",
       "        vertical-align: top;\n",
       "    }\n",
       "\n",
       "    .dataframe thead th {\n",
       "        text-align: right;\n",
       "    }\n",
       "</style>\n",
       "<table border=\"1\" class=\"dataframe\">\n",
       "  <thead>\n",
       "    <tr style=\"text-align: right;\">\n",
       "      <th></th>\n",
       "      <th>licitacao</th>\n",
       "      <th>grafos</th>\n",
       "      <th>cliques</th>\n",
       "      <th>densidade</th>\n",
       "      <th>max_clique</th>\n",
       "    </tr>\n",
       "  </thead>\n",
       "  <tbody>\n",
       "    <tr>\n",
       "      <th>0</th>\n",
       "      <td>746396</td>\n",
       "      <td>(19644907000111, 19644880000167, 1970356800010...</td>\n",
       "      <td>[[19925594000170, 19644880000167, 197035680001...</td>\n",
       "      <td>0.227273</td>\n",
       "      <td>6</td>\n",
       "    </tr>\n",
       "  </tbody>\n",
       "</table>\n",
       "</div>"
      ],
      "text/plain": [
       "  licitacao                                             grafos  \\\n",
       "0    746396  (19644907000111, 19644880000167, 1970356800010...   \n",
       "\n",
       "                                             cliques  densidade  max_clique  \n",
       "0  [[19925594000170, 19644880000167, 197035680001...   0.227273           6  "
      ]
     },
     "execution_count": 3,
     "metadata": {},
     "output_type": "execute_result"
    }
   ],
   "source": [
    "df['max_clique'] = df['cliques'].apply(\n",
    "    lambda x: fg.calcula_max_clique(x)\n",
    ")\n",
    "df.head(1)"
   ]
  },
  {
   "cell_type": "markdown",
   "metadata": {},
   "source": [
    "De relatórios anteriores sabemos que a max clique de Rio Pardo de Minas é de tamanho 77. Vamos verificar se os dados batem:"
   ]
  },
  {
   "cell_type": "markdown",
   "metadata": {},
   "source": [
    "Vamos agora gerar algumas visualizações estatísticas em nível estadual."
   ]
  },
  {
   "cell_type": "code",
   "execution_count": 4,
   "metadata": {},
   "outputs": [
    {
     "ename": "NameError",
     "evalue": "name 'px' is not defined",
     "output_type": "error",
     "traceback": [
      "\u001b[0;31m---------------------------------------------------------------------------\u001b[0m",
      "\u001b[0;31mNameError\u001b[0m                                 Traceback (most recent call last)",
      "\u001b[0;32m<ipython-input-4-16806d4d8385>\u001b[0m in \u001b[0;36m<module>\u001b[0;34m\u001b[0m\n\u001b[1;32m     13\u001b[0m     \u001b[0mfig\u001b[0m\u001b[0;34m.\u001b[0m\u001b[0mshow\u001b[0m\u001b[0;34m(\u001b[0m\u001b[0;34m)\u001b[0m\u001b[0;34m\u001b[0m\u001b[0;34m\u001b[0m\u001b[0m\n\u001b[1;32m     14\u001b[0m \u001b[0;34m\u001b[0m\u001b[0m\n\u001b[0;32m---> 15\u001b[0;31m \u001b[0mplota_histograma_tamanho_max_clique\u001b[0m\u001b[0;34m(\u001b[0m\u001b[0mdf\u001b[0m\u001b[0;34m)\u001b[0m\u001b[0;34m\u001b[0m\u001b[0;34m\u001b[0m\u001b[0m\n\u001b[0m",
      "\u001b[0;32m<ipython-input-4-16806d4d8385>\u001b[0m in \u001b[0;36mplota_histograma_tamanho_max_clique\u001b[0;34m(df)\u001b[0m\n\u001b[1;32m      1\u001b[0m \u001b[0;32mdef\u001b[0m \u001b[0mplota_histograma_tamanho_max_clique\u001b[0m\u001b[0;34m(\u001b[0m\u001b[0mdf\u001b[0m\u001b[0;34m)\u001b[0m\u001b[0;34m:\u001b[0m\u001b[0;34m\u001b[0m\u001b[0;34m\u001b[0m\u001b[0m\n\u001b[1;32m      2\u001b[0m     \u001b[0mdf\u001b[0m \u001b[0;34m=\u001b[0m \u001b[0mdf\u001b[0m\u001b[0;34m\u001b[0m\u001b[0;34m\u001b[0m\u001b[0m\n\u001b[0;32m----> 3\u001b[0;31m     fig = px.histogram(df, x='max_clique',\n\u001b[0m\u001b[1;32m      4\u001b[0m                        \u001b[0mtitle\u001b[0m\u001b[0;34m=\u001b[0m\u001b[0;34m\"Número de municípios por tamanho da max clique\"\u001b[0m\u001b[0;34m,\u001b[0m\u001b[0;34m\u001b[0m\u001b[0;34m\u001b[0m\u001b[0m\n\u001b[1;32m      5\u001b[0m                        labels={\n",
      "\u001b[0;31mNameError\u001b[0m: name 'px' is not defined"
     ]
    }
   ],
   "source": [
    "def plota_histograma_tamanho_max_clique(df):\n",
    "    df = df\n",
    "    fig = px.histogram(df, x='max_clique',\n",
    "                       title=\"Número de municípios por tamanho da max clique\",\n",
    "                       labels={\n",
    "                       'max_clique' : \"tamanho da max clique\"\n",
    "                       }\n",
    "                      )\n",
    "    fig.update_xaxes(visible=True, showticklabels=True)\n",
    "    fig.update_xaxes(categoryorder=\"total descending\")\n",
    "    fig.update_yaxes(title='número de municípios')\n",
    "    fig.write_image(\"images/nmr_municipios_por_tamanho_max_clique.jpg\")\n",
    "    fig.show()\n",
    "\n",
    "plota_histograma_tamanho_max_clique(df)"
   ]
  },
  {
   "cell_type": "code",
   "execution_count": null,
   "metadata": {},
   "outputs": [],
   "source": [
    "def plota_histograma_densidade(df):\n",
    "    df = df\n",
    "    fig = px.histogram(df, x='densidade',\n",
    "                       title=\"Número de municípios por densidade do grafo\",\n",
    "                       labels={\n",
    "                       'densidade' : \"densidade do grafo\"\n",
    "                       }\n",
    "                      )\n",
    "    fig.update_xaxes(visible=True, showticklabels=True)\n",
    "    fig.update_xaxes(categoryorder=\"total descending\")\n",
    "    fig.update_yaxes(title='número de municípios')\n",
    "    fig.write_image(\"images/nmr_municipios_por_densidade.jpg\")\n",
    "    fig.show()\n",
    "\n",
    "plota_histograma_densidade(df)"
   ]
  },
  {
   "cell_type": "code",
   "execution_count": null,
   "metadata": {},
   "outputs": [],
   "source": []
  }
 ],
 "metadata": {
  "interpreter": {
   "hash": "916dbcbb3f70747c44a77c7bcd40155683ae19c65e1c03b4aa3499c5328201f1"
  },
  "kernelspec": {
   "display_name": "Python 3",
   "language": "python",
   "name": "python3"
  },
  "language_info": {
   "codemirror_mode": {
    "name": "ipython",
    "version": 3
   },
   "file_extension": ".py",
   "mimetype": "text/x-python",
   "name": "python",
   "nbconvert_exporter": "python",
   "pygments_lexer": "ipython3",
   "version": "3.8.10"
  }
 },
 "nbformat": 4,
 "nbformat_minor": 2
}
