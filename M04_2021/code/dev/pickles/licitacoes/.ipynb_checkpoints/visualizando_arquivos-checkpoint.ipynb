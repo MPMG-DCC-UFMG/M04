{
 "cells": [
  {
   "cell_type": "code",
   "execution_count": 1,
   "id": "5879b2ad",
   "metadata": {},
   "outputs": [],
   "source": [
    "import pandas as pd"
   ]
  },
  {
   "cell_type": "code",
   "execution_count": 2,
   "id": "d5665247",
   "metadata": {
    "scrolled": true
   },
   "outputs": [
    {
     "data": {
      "text/html": [
       "<div>\n",
       "<style scoped>\n",
       "    .dataframe tbody tr th:only-of-type {\n",
       "        vertical-align: middle;\n",
       "    }\n",
       "\n",
       "    .dataframe tbody tr th {\n",
       "        vertical-align: top;\n",
       "    }\n",
       "\n",
       "    .dataframe thead th {\n",
       "        text-align: right;\n",
       "    }\n",
       "</style>\n",
       "<table border=\"1\" class=\"dataframe\">\n",
       "  <thead>\n",
       "    <tr style=\"text-align: right;\">\n",
       "      <th></th>\n",
       "      <th>ano</th>\n",
       "      <th>municipio</th>\n",
       "      <th>modalidade</th>\n",
       "      <th>licitacao</th>\n",
       "      <th>valor</th>\n",
       "      <th>vinculo_em_uso</th>\n",
       "      <th>grafo</th>\n",
       "      <th>cnpjs</th>\n",
       "    </tr>\n",
       "  </thead>\n",
       "  <tbody>\n",
       "    <tr>\n",
       "      <th>0</th>\n",
       "      <td>2015</td>\n",
       "      <td>Cascalho Rico</td>\n",
       "      <td>Pregão Presencial</td>\n",
       "      <td>746396</td>\n",
       "      <td>1190070.0</td>\n",
       "      <td>1</td>\n",
       "      <td>(19644907000111, 19644880000167, 1970356800010...</td>\n",
       "      <td>[19644907000111, 19703568000105, 1964488000016...</td>\n",
       "    </tr>\n",
       "  </tbody>\n",
       "</table>\n",
       "</div>"
      ],
      "text/plain": [
       "    ano      municipio         modalidade licitacao      valor  \\\n",
       "0  2015  Cascalho Rico  Pregão Presencial    746396  1190070.0   \n",
       "\n",
       "   vinculo_em_uso                                              grafo  \\\n",
       "0               1  (19644907000111, 19644880000167, 1970356800010...   \n",
       "\n",
       "                                               cnpjs  \n",
       "0  [19644907000111, 19703568000105, 1964488000016...  "
      ]
     },
     "execution_count": 2,
     "metadata": {},
     "output_type": "execute_result"
    }
   ],
   "source": [
    "df = pd.read_pickle('grafos_licitacoes')\n",
    "df.head(1)"
   ]
  },
  {
   "cell_type": "code",
   "execution_count": 9,
   "id": "080c73fb",
   "metadata": {},
   "outputs": [
    {
     "data": {
      "text/html": [
       "<div>\n",
       "<style scoped>\n",
       "    .dataframe tbody tr th:only-of-type {\n",
       "        vertical-align: middle;\n",
       "    }\n",
       "\n",
       "    .dataframe tbody tr th {\n",
       "        vertical-align: top;\n",
       "    }\n",
       "\n",
       "    .dataframe thead th {\n",
       "        text-align: right;\n",
       "    }\n",
       "</style>\n",
       "<table border=\"1\" class=\"dataframe\">\n",
       "  <thead>\n",
       "    <tr style=\"text-align: right;\">\n",
       "      <th></th>\n",
       "      <th>Unnamed: 0</th>\n",
       "      <th>ano</th>\n",
       "      <th>municipio</th>\n",
       "      <th>modalidade</th>\n",
       "      <th>licitacao</th>\n",
       "      <th>valor</th>\n",
       "      <th>vinculo_em_uso</th>\n",
       "      <th>cnpjs</th>\n",
       "      <th>quantidade_cnpjs</th>\n",
       "      <th>quantidade_vinculos</th>\n",
       "      <th>densidade</th>\n",
       "      <th>tamanho_max_clique</th>\n",
       "    </tr>\n",
       "  </thead>\n",
       "  <tbody>\n",
       "    <tr>\n",
       "      <th>0</th>\n",
       "      <td>0</td>\n",
       "      <td>2015</td>\n",
       "      <td>Cascalho Rico</td>\n",
       "      <td>Pregão Presencial</td>\n",
       "      <td>746396</td>\n",
       "      <td>1190070.0</td>\n",
       "      <td>1</td>\n",
       "      <td>['19644907000111', '19703568000105', '19644880...</td>\n",
       "      <td>12</td>\n",
       "      <td>15</td>\n",
       "      <td>0.227273</td>\n",
       "      <td>6</td>\n",
       "    </tr>\n",
       "  </tbody>\n",
       "</table>\n",
       "</div>"
      ],
      "text/plain": [
       "   Unnamed: 0   ano      municipio         modalidade  licitacao      valor  \\\n",
       "0           0  2015  Cascalho Rico  Pregão Presencial     746396  1190070.0   \n",
       "\n",
       "   vinculo_em_uso                                              cnpjs  \\\n",
       "0               1  ['19644907000111', '19703568000105', '19644880...   \n",
       "\n",
       "   quantidade_cnpjs  quantidade_vinculos  densidade  tamanho_max_clique  \n",
       "0                12                   15   0.227273                   6  "
      ]
     },
     "execution_count": 9,
     "metadata": {},
     "output_type": "execute_result"
    }
   ],
   "source": [
    "r1 = pd.read_csv('relatorio_1')\n",
    "r1.head(1)"
   ]
  },
  {
   "cell_type": "code",
   "execution_count": 10,
   "id": "29f4b481",
   "metadata": {},
   "outputs": [
    {
     "data": {
      "text/plain": [
       "Unnamed: 0                                                             0\n",
       "ano                                                                 2015\n",
       "municipio                                                  Cascalho Rico\n",
       "modalidade                                             Pregão Presencial\n",
       "licitacao                                                         746396\n",
       "valor                                                          1190070.0\n",
       "vinculo_em_uso                                                         1\n",
       "cnpjs                  ['19644907000111', '19703568000105', '19644880...\n",
       "quantidade_cnpjs                                                      12\n",
       "quantidade_vinculos                                                   15\n",
       "densidade                                                       0.227273\n",
       "tamanho_max_clique                                                     6\n",
       "Name: 0, dtype: object"
      ]
     },
     "execution_count": 10,
     "metadata": {},
     "output_type": "execute_result"
    }
   ],
   "source": [
    "r1.iloc[0]"
   ]
  },
  {
   "cell_type": "code",
   "execution_count": 11,
   "id": "31763915",
   "metadata": {},
   "outputs": [
    {
     "data": {
      "text/plain": [
       "\"['19644907000111', '19703568000105', '19644880000167', '21849894000169', '21679375000108', '19925594000170', '21923822000114', '21884015000130', '19757865000125', '19703659000132', '19581052000127', '07840525000184']\""
      ]
     },
     "execution_count": 11,
     "metadata": {},
     "output_type": "execute_result"
    }
   ],
   "source": [
    "r1.iloc[0]['cnpjs']"
   ]
  }
 ],
 "metadata": {
  "kernelspec": {
   "display_name": "Python 3",
   "language": "python",
   "name": "python3"
  },
  "language_info": {
   "codemirror_mode": {
    "name": "ipython",
    "version": 3
   },
   "file_extension": ".py",
   "mimetype": "text/x-python",
   "name": "python",
   "nbconvert_exporter": "python",
   "pygments_lexer": "ipython3",
   "version": "3.8.10"
  }
 },
 "nbformat": 4,
 "nbformat_minor": 5
}
