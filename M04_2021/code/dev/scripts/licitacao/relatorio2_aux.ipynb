{
 "cells": [
  {
   "source": [
    "Importando bibliotecas externas e pacotes implementados"
   ],
   "cell_type": "markdown",
   "metadata": {}
  },
  {
   "cell_type": "code",
   "execution_count": 1,
   "metadata": {},
   "outputs": [],
   "source": [
    "import sys\n",
    "sys.path.insert(0, '../..')\n",
    "from util import carregamento_dados as cd, ferramentas_grafos as fg\n",
    "import pandas as pd\n",
    "from collections import defaultdict"
   ]
  },
  {
   "source": [
    "Importando os 3 arquivos principais:\n",
    "\n",
    "1. Vínculos\n",
    "2. Informações gerais das licitações (ano, valor, ...)\n",
    "3. CNPJs participantes por licitação"
   ],
   "cell_type": "markdown",
   "metadata": {}
  },
  {
   "cell_type": "code",
   "execution_count": 2,
   "metadata": {},
   "outputs": [
    {
     "output_type": "stream",
     "name": "stdout",
     "text": [
      "CPU times: user 1 µs, sys: 1 µs, total: 2 µs\nWall time: 8.58 µs\n"
     ]
    }
   ],
   "source": [
    "dump_path = '../../pickles/licitacoes/'\n",
    "relacoes_entre_cnpjs = cd.salvar_relacoes_entre_cnpjs()\n",
    "informacoes_licitacoes = cd.salvar_informacoes_licitacoes()\n",
    "cnpjs_por_licitacao = cd.salvar_cnpjs_por_licitacao()\n",
    "%time\n"
   ]
  },
  {
   "source": [
    "Transformando os dados representados em DataFrames pandas para dicionários nativos (melhor tempo de consulta e construção de dados)"
   ],
   "cell_type": "markdown",
   "metadata": {}
  },
  {
   "cell_type": "code",
   "execution_count": 3,
   "metadata": {},
   "outputs": [
    {
     "output_type": "stream",
     "name": "stdout",
     "text": [
      "CPU times: user 1 µs, sys: 1 µs, total: 2 µs\nWall time: 3.58 µs\n"
     ]
    }
   ],
   "source": [
    "d_relacoes = cd.cnpjs_relacionados_por_cnpj(relacoes_entre_cnpjs)\n",
    "d_licitacoes = cd.cnpjs_por_licitacao(cnpjs_por_licitacao)\n",
    "%time"
   ]
  },
  {
   "source": [
    "Criando uma lista com os números identificadores de cada licitação a partir do arquivo de CNPJs participantes por relação.\n",
    "OBS: Existem licitações no arquivo de informações gerais para as quais não existem informações dos CNPJs participantes."
   ],
   "cell_type": "markdown",
   "metadata": {}
  },
  {
   "cell_type": "code",
   "execution_count": 4,
   "metadata": {},
   "outputs": [
    {
     "output_type": "stream",
     "name": "stdout",
     "text": [
      "CPU times: user 1e+03 ns, sys: 0 ns, total: 1e+03 ns\nWall time: 3.34 µs\n"
     ]
    }
   ],
   "source": [
    "dados_licitacao = cnpjs_por_licitacao.values\n",
    "licitacoes = [licitacao for licitacao, _ in dados_licitacao]\n",
    "%time"
   ]
  },
  {
   "source": [
    "Inicializa-se o dicionário aninhado vazio para armazenar os dados das licitações"
   ],
   "cell_type": "markdown",
   "metadata": {}
  },
  {
   "cell_type": "code",
   "execution_count": 5,
   "metadata": {},
   "outputs": [
    {
     "output_type": "stream",
     "name": "stdout",
     "text": [
      "CPU times: user 1 µs, sys: 1e+03 ns, total: 2 µs\nWall time: 4.29 µs\n"
     ]
    }
   ],
   "source": [
    "d = {\n",
    "    licitacao: {\n",
    "        'cnpjs' : [],\n",
    "        'ano' : None,\n",
    "        'municipio': None,\n",
    "        'modalidade': None,\n",
    "        'valor': None,\n",
    "        'grafo': None,\n",
    "        'cliques': None\n",
    "    } for licitacao in licitacoes\n",
    "}\n",
    "\n",
    "%time"
   ]
  },
  {
   "cell_type": "code",
   "execution_count": 6,
   "metadata": {},
   "outputs": [
    {
     "output_type": "stream",
     "name": "stdout",
     "text": [
      "CPU times: user 1 µs, sys: 0 ns, total: 1 µs\nWall time: 3.1 µs\n"
     ]
    }
   ],
   "source": [
    "for licitacao, cnpj in cnpjs_por_licitacao.values:\n",
    "    d[licitacao]['cnpjs'].append(cnpj)\n",
    "\n",
    "%time\n",
    "    "
   ]
  },
  {
   "source": [
    "Agora alimentamos o dicionário com os dados de cada licitação: município, modalidade, ano, valor"
   ],
   "cell_type": "markdown",
   "metadata": {}
  },
  {
   "cell_type": "code",
   "execution_count": 7,
   "metadata": {
    "tags": []
   },
   "outputs": [
    {
     "output_type": "stream",
     "name": "stdout",
     "text": [
      "CPU times: user 2 µs, sys: 1 µs, total: 3 µs\nWall time: 3.81 µs\n"
     ]
    }
   ],
   "source": [
    "for l in informacoes_licitacoes.values:\n",
    "    try:\n",
    "        d[l[0]]['municipio'] = l[1]\n",
    "        d[l[0]]['ano'] = l[5]\n",
    "        d[l[0]]['modalidade'] = l[3]\n",
    "        d[l[0]]['valor'] = l[7]\n",
    "    except:\n",
    "        # Exceção para licitações que não possuem informações de CNPJs licitantes\n",
    "        pass\n",
    "\n",
    "%time"
   ]
  },
  {
   "source": [
    "Conferindo o dicionário para uma licitação"
   ],
   "cell_type": "markdown",
   "metadata": {}
  },
  {
   "cell_type": "code",
   "execution_count": 8,
   "metadata": {},
   "outputs": [
    {
     "output_type": "execute_result",
     "data": {
      "text/plain": [
       "{'cnpjs': ['19644907000111',\n",
       "  '19703568000105',\n",
       "  '19644880000167',\n",
       "  '21849894000169',\n",
       "  '21679375000108',\n",
       "  '19925594000170',\n",
       "  '21923822000114',\n",
       "  '21884015000130',\n",
       "  '19757865000125',\n",
       "  '19703659000132',\n",
       "  '19581052000127',\n",
       "  '07840525000184'],\n",
       " 'ano': '2015',\n",
       " 'municipio': 'Cascalho Rico',\n",
       " 'modalidade': 'Pregão Presencial',\n",
       " 'valor': '1190070.0',\n",
       " 'grafo': None,\n",
       " 'cliques': None}"
      ]
     },
     "metadata": {},
     "execution_count": 8
    }
   ],
   "source": [
    "d['746396']"
   ]
  },
  {
   "source": [
    "Para cada licitação cria-se o grafo de CNPJs licitantes e lista-se as cliques"
   ],
   "cell_type": "markdown",
   "metadata": {}
  },
  {
   "cell_type": "code",
   "execution_count": 9,
   "metadata": {},
   "outputs": [
    {
     "output_type": "stream",
     "name": "stdout",
     "text": [
      "CPU times: user 2 µs, sys: 1 µs, total: 3 µs\nWall time: 3.58 µs\n"
     ]
    }
   ],
   "source": [
    "for licitacao in licitacoes:\n",
    "    grafo = fg.gera_grafo_licitacao(\n",
    "        licitacao, d_relacoes, d_licitacoes\n",
    "    )\n",
    "    cliques = fg.lista_cliques(grafo)\n",
    "\n",
    "    d[licitacao]['grafo'] = grafo\n",
    "    d[licitacao]['cliques'] = cliques\n",
    "\n",
    "%time"
   ]
  },
  {
   "source": [
    "Como queremos listar cliques individuais com tamanho mínimo de dois CNPJs, alimentamos um dicionário indexado por cada uma dessas cliques."
   ],
   "cell_type": "markdown",
   "metadata": {}
  },
  {
   "cell_type": "code",
   "execution_count": 10,
   "metadata": {},
   "outputs": [
    {
     "output_type": "execute_result",
     "data": {
      "text/plain": [
       "array(['761453', '761484', '761487', ..., '933417', '933430', '933667'],\n",
       "      dtype=object)"
      ]
     },
     "metadata": {},
     "execution_count": 10
    }
   ],
   "source": [
    "lu = pd.Series(licitacoes).unique()\n",
    "lu"
   ]
  },
  {
   "cell_type": "code",
   "execution_count": 11,
   "metadata": {
    "tags": []
   },
   "outputs": [
    {
     "output_type": "stream",
     "name": "stdout",
     "text": [
      "CPU times: user 2 µs, sys: 0 ns, total: 2 µs\nWall time: 3.81 µs\n"
     ]
    }
   ],
   "source": [
    "# c : cliques dictionary\n",
    "c = defaultdict(dict)\n",
    "\n",
    "clique_id = 0\n",
    "for licitacao in pd.Series(licitacoes).unique():\n",
    "    for clique in d[licitacao]['cliques']:\n",
    "        tamanho_clique = len(clique)\n",
    "        if tamanho_clique >= 2:\n",
    "            printable_cnpjs = ''\n",
    "            for cnpj in clique:\n",
    "                printable_cnpjs += (str(cnpj) + ';')\n",
    "            c[clique_id] = {\n",
    "                'ano' : d[licitacao]['ano'],\n",
    "                'municipio': d[licitacao]['municipio'],\n",
    "                'tipo_processo_licitatorio': d[licitacao]['modalidade'],\n",
    "                'id_licitacao' : licitacao,\n",
    "                'valor': d[licitacao]['valor'],\n",
    "                'vinculo_em_uso': '1',\n",
    "                'quantidade_cnpjs': len(d[licitacao]['cnpjs']),\n",
    "                'quantidade_vinculos': fg.calcula_quantidade_arestas(d[licitacao]['grafo']),\n",
    "                'densidade_grafo': fg.calcula_densidade(d[licitacao]['grafo']),\n",
    "                'tam_clique_encontrada': tamanho_clique,\n",
    "                'lista_de_cnpjs_compondo_clique' : printable_cnpjs,\n",
    "            }\n",
    "            clique_id += 1\n",
    "\n",
    "%time"
   ]
  },
  {
   "source": [
    "Agora salvamos o dicionário como um dataframe para facilitar a interface com o sistema"
   ],
   "cell_type": "markdown",
   "metadata": {}
  },
  {
   "cell_type": "code",
   "execution_count": 12,
   "metadata": {},
   "outputs": [],
   "source": [
    "cliques = pd.DataFrame.from_dict(\n",
    "    data=c,\n",
    "    orient='index'\n",
    ")"
   ]
  },
  {
   "cell_type": "code",
   "execution_count": 13,
   "metadata": {},
   "outputs": [
    {
     "output_type": "execute_result",
     "data": {
      "text/plain": [
       "       ano       municipio tipo_processo_licitatorio id_licitacao      valor  \\\n",
       "0     2016          Abaeté          Tomada de Preços       985585  235160.08   \n",
       "1     2016          Abaeté          Tomada de Preços       985626  261413.89   \n",
       "2     2016      Taiobeiras         Pregão Presencial       933933        NaN   \n",
       "3     2017          Abaeté         Pregão Presencial       985641   111523.0   \n",
       "4     2017          Abaeté          Tomada de Preços       985654  272170.36   \n",
       "...    ...             ...                       ...          ...        ...   \n",
       "5122  2017        Japonvar         Pregão Presencial       811299   372327.1   \n",
       "5123  2016       Papagaios         Pregão Presencial       858116    71470.0   \n",
       "5124  2015  Matias Barbosa         Pregão Presencial       833610    44569.5   \n",
       "5125  2017       Capetinga         Pregão Presencial       736138    73548.0   \n",
       "5126  2016           Bicas                   Convite       716568    72755.0   \n",
       "\n",
       "     vinculo_em_uso  quantidade_cnpjs  quantidade_vinculos  densidade_grafo  \\\n",
       "0                 1                 4                    1         0.166667   \n",
       "1                 1                 3                    1         0.333333   \n",
       "2                 1                 3                    1         0.333333   \n",
       "3                 1                 3                    1         0.333333   \n",
       "4                 1                 4                    1         0.166667   \n",
       "...             ...               ...                  ...              ...   \n",
       "5122              1                 3                    1         0.333333   \n",
       "5123              1                 2                    1         1.000000   \n",
       "5124              1                 2                    1         1.000000   \n",
       "5125              1                 2                    1         1.000000   \n",
       "5126              1                 2                    1         1.000000   \n",
       "\n",
       "      tam_clique_encontrada  lista_de_cnpjs_compondo_clique  \n",
       "0                         2  19268374000110;14054958000170;  \n",
       "1                         2  19268374000110;14054958000170;  \n",
       "2                         2  05459851000110;71400253000109;  \n",
       "3                         2  18210168000197;13668217000116;  \n",
       "4                         2  19268374000110;14054958000170;  \n",
       "...                     ...                             ...  \n",
       "5122                      2  17375792000181;00464331000182;  \n",
       "5123                      2  71104624000105;01278828000179;  \n",
       "5124                      2  11178248000163;21308487000144;  \n",
       "5125                      2  26202548000108;17777187000137;  \n",
       "5126                      2  24903002000159;12233779000174;  \n",
       "\n",
       "[5127 rows x 11 columns]"
      ],
      "text/html": "<div>\n<style scoped>\n    .dataframe tbody tr th:only-of-type {\n        vertical-align: middle;\n    }\n\n    .dataframe tbody tr th {\n        vertical-align: top;\n    }\n\n    .dataframe thead th {\n        text-align: right;\n    }\n</style>\n<table border=\"1\" class=\"dataframe\">\n  <thead>\n    <tr style=\"text-align: right;\">\n      <th></th>\n      <th>ano</th>\n      <th>municipio</th>\n      <th>tipo_processo_licitatorio</th>\n      <th>id_licitacao</th>\n      <th>valor</th>\n      <th>vinculo_em_uso</th>\n      <th>quantidade_cnpjs</th>\n      <th>quantidade_vinculos</th>\n      <th>densidade_grafo</th>\n      <th>tam_clique_encontrada</th>\n      <th>lista_de_cnpjs_compondo_clique</th>\n    </tr>\n  </thead>\n  <tbody>\n    <tr>\n      <th>0</th>\n      <td>2016</td>\n      <td>Abaeté</td>\n      <td>Tomada de Preços</td>\n      <td>985585</td>\n      <td>235160.08</td>\n      <td>1</td>\n      <td>4</td>\n      <td>1</td>\n      <td>0.166667</td>\n      <td>2</td>\n      <td>19268374000110;14054958000170;</td>\n    </tr>\n    <tr>\n      <th>1</th>\n      <td>2016</td>\n      <td>Abaeté</td>\n      <td>Tomada de Preços</td>\n      <td>985626</td>\n      <td>261413.89</td>\n      <td>1</td>\n      <td>3</td>\n      <td>1</td>\n      <td>0.333333</td>\n      <td>2</td>\n      <td>19268374000110;14054958000170;</td>\n    </tr>\n    <tr>\n      <th>2</th>\n      <td>2016</td>\n      <td>Taiobeiras</td>\n      <td>Pregão Presencial</td>\n      <td>933933</td>\n      <td>NaN</td>\n      <td>1</td>\n      <td>3</td>\n      <td>1</td>\n      <td>0.333333</td>\n      <td>2</td>\n      <td>05459851000110;71400253000109;</td>\n    </tr>\n    <tr>\n      <th>3</th>\n      <td>2017</td>\n      <td>Abaeté</td>\n      <td>Pregão Presencial</td>\n      <td>985641</td>\n      <td>111523.0</td>\n      <td>1</td>\n      <td>3</td>\n      <td>1</td>\n      <td>0.333333</td>\n      <td>2</td>\n      <td>18210168000197;13668217000116;</td>\n    </tr>\n    <tr>\n      <th>4</th>\n      <td>2017</td>\n      <td>Abaeté</td>\n      <td>Tomada de Preços</td>\n      <td>985654</td>\n      <td>272170.36</td>\n      <td>1</td>\n      <td>4</td>\n      <td>1</td>\n      <td>0.166667</td>\n      <td>2</td>\n      <td>19268374000110;14054958000170;</td>\n    </tr>\n    <tr>\n      <th>...</th>\n      <td>...</td>\n      <td>...</td>\n      <td>...</td>\n      <td>...</td>\n      <td>...</td>\n      <td>...</td>\n      <td>...</td>\n      <td>...</td>\n      <td>...</td>\n      <td>...</td>\n      <td>...</td>\n    </tr>\n    <tr>\n      <th>5122</th>\n      <td>2017</td>\n      <td>Japonvar</td>\n      <td>Pregão Presencial</td>\n      <td>811299</td>\n      <td>372327.1</td>\n      <td>1</td>\n      <td>3</td>\n      <td>1</td>\n      <td>0.333333</td>\n      <td>2</td>\n      <td>17375792000181;00464331000182;</td>\n    </tr>\n    <tr>\n      <th>5123</th>\n      <td>2016</td>\n      <td>Papagaios</td>\n      <td>Pregão Presencial</td>\n      <td>858116</td>\n      <td>71470.0</td>\n      <td>1</td>\n      <td>2</td>\n      <td>1</td>\n      <td>1.000000</td>\n      <td>2</td>\n      <td>71104624000105;01278828000179;</td>\n    </tr>\n    <tr>\n      <th>5124</th>\n      <td>2015</td>\n      <td>Matias Barbosa</td>\n      <td>Pregão Presencial</td>\n      <td>833610</td>\n      <td>44569.5</td>\n      <td>1</td>\n      <td>2</td>\n      <td>1</td>\n      <td>1.000000</td>\n      <td>2</td>\n      <td>11178248000163;21308487000144;</td>\n    </tr>\n    <tr>\n      <th>5125</th>\n      <td>2017</td>\n      <td>Capetinga</td>\n      <td>Pregão Presencial</td>\n      <td>736138</td>\n      <td>73548.0</td>\n      <td>1</td>\n      <td>2</td>\n      <td>1</td>\n      <td>1.000000</td>\n      <td>2</td>\n      <td>26202548000108;17777187000137;</td>\n    </tr>\n    <tr>\n      <th>5126</th>\n      <td>2016</td>\n      <td>Bicas</td>\n      <td>Convite</td>\n      <td>716568</td>\n      <td>72755.0</td>\n      <td>1</td>\n      <td>2</td>\n      <td>1</td>\n      <td>1.000000</td>\n      <td>2</td>\n      <td>24903002000159;12233779000174;</td>\n    </tr>\n  </tbody>\n</table>\n<p>5127 rows × 11 columns</p>\n</div>"
     },
     "metadata": {},
     "execution_count": 13
    }
   ],
   "source": [
    "cliques"
   ]
  },
  {
   "cell_type": "code",
   "execution_count": 15,
   "metadata": {},
   "outputs": [],
   "source": [
    "cliques.to_csv('cliques.csv')"
   ]
  }
 ],
 "metadata": {
  "interpreter": {
   "hash": "916dbcbb3f70747c44a77c7bcd40155683ae19c65e1c03b4aa3499c5328201f1"
  },
  "kernelspec": {
   "name": "python3",
   "display_name": "Python 3.8.10 64-bit"
  },
  "language_info": {
   "codemirror_mode": {
    "name": "ipython",
    "version": 3
   },
   "file_extension": ".py",
   "mimetype": "text/x-python",
   "name": "python",
   "nbconvert_exporter": "python",
   "pygments_lexer": "ipython3",
   "version": "3.8.10"
  },
  "orig_nbformat": 4
 },
 "nbformat": 4,
 "nbformat_minor": 2
}