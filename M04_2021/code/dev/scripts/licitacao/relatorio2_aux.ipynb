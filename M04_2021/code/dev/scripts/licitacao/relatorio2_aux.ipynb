{
 "cells": [
  {
   "cell_type": "code",
   "execution_count": null,
   "metadata": {},
   "outputs": [],
   "source": [
    "import sys\n",
    "sys.path.insert(0, '../..')\n",
    "from util import carregamento_dados as cd, ferramentas_grafos as fg\n",
    "import pandas as pd\n",
    "from collections import defaultdict"
   ]
  },
  {
   "cell_type": "code",
   "execution_count": 2,
   "metadata": {},
   "outputs": [],
   "source": [
    "# Carrega os 3 arquivos principais\n",
    "dump_path = '../../pickles/licitacoes/'\n",
    "relacoes_entre_cnpjs = cd.salvar_relacoes_entre_cnpjs()\n",
    "informacoes_licitacoes = cd.salvar_informacoes_licitacoes()\n",
    "cnpjs_por_licitacao = cd.salvar_cnpjs_por_licitacao()\n",
    "\n",
    "# Dicionários necessários carregados por meio de funções implementadas\n",
    "# externamente.\n",
    "d_relacoes = cd.cnpjs_relacionados_por_cnpj(relacoes_entre_cnpjs)\n",
    "d_licitacoes = cd.cnpjs_por_licitacao(cnpjs_por_licitacao)"
   ]
  },
  {
   "cell_type": "code",
   "execution_count": 3,
   "metadata": {},
   "outputs": [],
   "source": [
    "dados_licitacao = cnpjs_por_licitacao.values\n",
    "licitacoes = [licitacao for licitacao, _ in dados_licitacao]\n",
    "\n",
    "d = {\n",
    "    licitacao: {\n",
    "        'cnpjs' : [],\n",
    "        'ano' : None,\n",
    "        'municipio': None,\n",
    "        'modalidade': None,\n",
    "        'grafo': None,\n",
    "        'cliques': None\n",
    "    } for licitacao in licitacoes\n",
    "}\n",
    "\n",
    "for licitacao, cnpj_licitante in dados_licitacao:\n",
    "    d[licitacao]['cnpjs'].append(cnpj_licitante)"
   ]
  },
  {
   "cell_type": "code",
   "execution_count": 4,
   "metadata": {},
   "outputs": [],
   "source": [
    "for licitacao in licitacoes:\n",
    "    grafo = fg.gera_grafo_licitacao(\n",
    "        licitacao, d_relacoes, d_licitacoes\n",
    "    )\n",
    "    cliques = fg.lista_cliques(grafo)\n",
    "\n",
    "    d[licitacao]['grafo'] = grafo\n",
    "    d[licitacao]['cliques'] = cliques"
   ]
  },
  {
   "cell_type": "code",
   "execution_count": 5,
   "metadata": {},
   "outputs": [],
   "source": [
    "c = defaultdict(dict)\n",
    "clique_id = 0\n",
    "for licitacao in licitacoes:\n",
    "    for clique in d[licitacao]['cliques']:\n",
    "        if len(clique) >= 2:\n",
    "            c[clique_id] = {\n",
    "                'cnpjs' : d[licitacao]['cnpjs'],\n",
    "                'licitacao_id' : licitacao\n",
    "            }\n",
    "            clique_id += 1"
   ]
  }
 ],
 "metadata": {
  "interpreter": {
   "hash": "916dbcbb3f70747c44a77c7bcd40155683ae19c65e1c03b4aa3499c5328201f1"
  },
  "kernelspec": {
   "display_name": "Python 3.8.10 64-bit",
   "name": "python3"
  },
  "language_info": {
   "codemirror_mode": {
    "name": "ipython",
    "version": 3
   },
   "file_extension": ".py",
   "mimetype": "text/x-python",
   "name": "python",
   "nbconvert_exporter": "python",
   "pygments_lexer": "ipython3",
   "version": "3.8.10"
  },
  "orig_nbformat": 4
 },
 "nbformat": 4,
 "nbformat_minor": 2
}