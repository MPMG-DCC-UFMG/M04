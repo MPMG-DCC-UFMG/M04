{
 "metadata": {
  "language_info": {
   "codemirror_mode": {
    "name": "ipython",
    "version": 3
   },
   "file_extension": ".py",
   "mimetype": "text/x-python",
   "name": "python",
   "nbconvert_exporter": "python",
   "pygments_lexer": "ipython3",
   "version": "3.8.10"
  },
  "orig_nbformat": 4,
  "kernelspec": {
   "name": "python3",
   "display_name": "Python 3.8.10 64-bit"
  },
  "interpreter": {
   "hash": "916dbcbb3f70747c44a77c7bcd40155683ae19c65e1c03b4aa3499c5328201f1"
  }
 },
 "nbformat": 4,
 "nbformat_minor": 2,
 "cells": [
  {
   "cell_type": "code",
   "execution_count": 24,
   "metadata": {},
   "outputs": [],
   "source": [
    "import sys\n",
    "sys.path.insert(0, '../..')\n",
    "from util import carregamento_dados as cd, ferramentas_grafos as fg\n",
    "import pandas as pd\n",
    "from collections import defaultdict"
   ]
  },
  {
   "cell_type": "code",
   "execution_count": 25,
   "metadata": {},
   "outputs": [
    {
     "output_type": "stream",
     "name": "stdout",
     "text": [
      "CPU times: user 1 µs, sys: 0 ns, total: 1 µs\nWall time: 3.58 µs\n"
     ]
    }
   ],
   "source": [
    "dump_path = '../../pickles/licitacoes/'\n",
    "relacoes_entre_cnpjs = cd.salvar_relacoes_entre_cnpjs()\n",
    "informacoes_licitacoes = cd.salvar_informacoes_licitacoes()\n",
    "cnpjs_por_licitacao = cd.salvar_cnpjs_por_licitacao()\n",
    "%time\n"
   ]
  },
  {
   "cell_type": "code",
   "execution_count": 26,
   "metadata": {},
   "outputs": [
    {
     "output_type": "execute_result",
     "data": {
      "text/plain": [
       "    ano municipio tipo_processo_licitatorio id_licitacao      valor  \\\n",
       "0  2016    Abaeté          Tomada de Preços       985585  235160.08   \n",
       "\n",
       "  vinculo_em_uso  quantidade_cnpjs  quantidade_vinculos  densidade_grafo  \\\n",
       "0              1                 4                    1         0.166667   \n",
       "\n",
       "   tam_clique_encontrada  lista_de_cnpjs_compondo_clique  \n",
       "0                      2  19268374000110;14054958000170;  "
      ],
      "text/html": "<div>\n<style scoped>\n    .dataframe tbody tr th:only-of-type {\n        vertical-align: middle;\n    }\n\n    .dataframe tbody tr th {\n        vertical-align: top;\n    }\n\n    .dataframe thead th {\n        text-align: right;\n    }\n</style>\n<table border=\"1\" class=\"dataframe\">\n  <thead>\n    <tr style=\"text-align: right;\">\n      <th></th>\n      <th>ano</th>\n      <th>municipio</th>\n      <th>tipo_processo_licitatorio</th>\n      <th>id_licitacao</th>\n      <th>valor</th>\n      <th>vinculo_em_uso</th>\n      <th>quantidade_cnpjs</th>\n      <th>quantidade_vinculos</th>\n      <th>densidade_grafo</th>\n      <th>tam_clique_encontrada</th>\n      <th>lista_de_cnpjs_compondo_clique</th>\n    </tr>\n  </thead>\n  <tbody>\n    <tr>\n      <th>0</th>\n      <td>2016</td>\n      <td>Abaeté</td>\n      <td>Tomada de Preços</td>\n      <td>985585</td>\n      <td>235160.08</td>\n      <td>1</td>\n      <td>4</td>\n      <td>1</td>\n      <td>0.166667</td>\n      <td>2</td>\n      <td>19268374000110;14054958000170;</td>\n    </tr>\n  </tbody>\n</table>\n</div>"
     },
     "metadata": {},
     "execution_count": 26
    }
   ],
   "source": [
    "cliques = pd.read_pickle('cliques_picles')\n",
    "cliques.head(1)"
   ]
  },
  {
   "cell_type": "code",
   "execution_count": 27,
   "metadata": {},
   "outputs": [
    {
     "output_type": "stream",
     "name": "stdout",
     "text": [
      "CPU times: user 1 µs, sys: 0 ns, total: 1 µs\nWall time: 3.34 µs\n"
     ]
    }
   ],
   "source": [
    "d_relacoes = cd.cnpjs_relacionados_por_cnpj(relacoes_entre_cnpjs)\n",
    "d_licitacoes = cd.cnpjs_por_licitacao(cnpjs_por_licitacao)\n",
    "%time"
   ]
  },
  {
   "cell_type": "code",
   "execution_count": 28,
   "metadata": {},
   "outputs": [
    {
     "output_type": "stream",
     "name": "stdout",
     "text": [
      "CPU times: user 1 µs, sys: 1 µs, total: 2 µs\nWall time: 3.58 µs\n"
     ]
    }
   ],
   "source": [
    "dados_licitacao = cnpjs_por_licitacao.values\n",
    "licitacoes = [licitacao for licitacao, _ in dados_licitacao]\n",
    "%time"
   ]
  },
  {
   "cell_type": "code",
   "execution_count": 29,
   "metadata": {},
   "outputs": [
    {
     "output_type": "stream",
     "name": "stdout",
     "text": [
      "CPU times: user 2 µs, sys: 0 ns, total: 2 µs\nWall time: 3.34 µs\n"
     ]
    }
   ],
   "source": [
    "d = {\n",
    "    licitacao: {\n",
    "        'cnpjs' : [],\n",
    "        'ano' : None,\n",
    "        'municipio': None,\n",
    "        'modalidade': None,\n",
    "        'valor': None,\n",
    "        'grafo': None,\n",
    "        'cliques': None\n",
    "    } for licitacao in licitacoes\n",
    "}\n",
    "\n",
    "%time"
   ]
  },
  {
   "cell_type": "code",
   "execution_count": 30,
   "metadata": {},
   "outputs": [
    {
     "output_type": "stream",
     "name": "stdout",
     "text": [
      "CPU times: user 2 µs, sys: 0 ns, total: 2 µs\nWall time: 3.1 µs\n"
     ]
    }
   ],
   "source": [
    "for licitacao, cnpj in cnpjs_por_licitacao.values:\n",
    "    d[licitacao]['cnpjs'].append(cnpj)\n",
    "\n",
    "%time\n",
    "    "
   ]
  },
  {
   "cell_type": "code",
   "execution_count": 31,
   "metadata": {},
   "outputs": [
    {
     "output_type": "stream",
     "name": "stdout",
     "text": [
      "CPU times: user 3 µs, sys: 0 ns, total: 3 µs\nWall time: 4.05 µs\n"
     ]
    }
   ],
   "source": [
    "for l in informacoes_licitacoes.values:\n",
    "    try:\n",
    "        d[l[0]]['municipio'] = l[1]\n",
    "        d[l[0]]['ano'] = l[5]\n",
    "        d[l[0]]['modalidade'] = l[3]\n",
    "        d[l[0]]['valor'] = l[7]\n",
    "    except:\n",
    "        # Exceção para licitações que não possuem informações de CNPJs licitantes\n",
    "        pass\n",
    "\n",
    "%time"
   ]
  },
  {
   "cell_type": "code",
   "execution_count": 32,
   "metadata": {},
   "outputs": [
    {
     "output_type": "stream",
     "name": "stdout",
     "text": [
      "CPU times: user 1e+03 ns, sys: 0 ns, total: 1e+03 ns\nWall time: 3.1 µs\n"
     ]
    }
   ],
   "source": [
    "for licitacao in licitacoes:\n",
    "    grafo = fg.gera_grafo_licitacao(\n",
    "        licitacao, d_relacoes, d_licitacoes\n",
    "    )\n",
    "    cliques = fg.lista_cliques(grafo)\n",
    "\n",
    "    d[licitacao]['grafo'] = grafo\n",
    "    d[licitacao]['cliques'] = cliques\n",
    "\n",
    "%time"
   ]
  },
  {
   "cell_type": "code",
   "execution_count": 33,
   "metadata": {},
   "outputs": [
    {
     "output_type": "stream",
     "name": "stdout",
     "text": [
      "CPU times: user 2 µs, sys: 0 ns, total: 2 µs\nWall time: 3.58 µs\n"
     ]
    }
   ],
   "source": [
    "# c : cliques dictionary\n",
    "c = defaultdict(dict)\n",
    "\n",
    "clique_id = 0\n",
    "for licitacao in pd.Series(licitacoes).unique():\n",
    "    for clique in d[licitacao]['cliques']:\n",
    "        tamanho_clique = len(clique)\n",
    "        if tamanho_clique >= 2:\n",
    "            printable_cnpjs = ''\n",
    "            for cnpj in clique:\n",
    "                printable_cnpjs += (str(cnpj) + ';')\n",
    "            c[clique_id] = {\n",
    "                'ano' : d[licitacao]['ano'],\n",
    "                'municipio': d[licitacao]['municipio'],\n",
    "                'tipo_processo_licitatorio': d[licitacao]['modalidade'],\n",
    "                'id_licitacao' : licitacao,\n",
    "                'valor': d[licitacao]['valor'],\n",
    "                'vinculo_em_uso': '1',\n",
    "                'quantidade_cnpjs': len(d[licitacao]['cnpjs']),\n",
    "                'quantidade_vinculos': fg.calcula_quantidade_arestas(d[licitacao]['grafo']),\n",
    "                'densidade_grafo': fg.calcula_densidade(d[licitacao]['grafo']),\n",
    "                'tam_clique_encontrada': tamanho_clique,\n",
    "                'lista_de_cnpjs_compondo_clique' : printable_cnpjs,\n",
    "                'cnpjs': clique\n",
    "            }\n",
    "            clique_id += 1\n",
    "\n",
    "%time"
   ]
  },
  {
   "source": [
    "Vamos verificar em quantas cliques cada CNPJ aparece.\n",
    "Primeiro precisamos levantar todos os cnpjs (reduzimos o universo consultando somente CNPJs em cliques)"
   ],
   "cell_type": "markdown",
   "metadata": {}
  },
  {
   "cell_type": "code",
   "execution_count": 34,
   "metadata": {
    "tags": []
   },
   "outputs": [],
   "source": [
    "CNPJs_em_cliques = set()\n",
    "for id in range(clique_id):\n",
    "    for cnpj in c[id]['cnpjs']:\n",
    "        CNPJs_em_cliques.add(cnpj)"
   ]
  },
  {
   "cell_type": "code",
   "execution_count": 43,
   "metadata": {},
   "outputs": [],
   "source": [
    "cnpjs_cliques = {\n",
    "    cnpj: {\n",
    "        'qtdade_licitacoes_que_figurou_com_alguem_com_vinculo': 0,\n",
    "        'lista_licitacoes_onde_isso_ocorreu': ''\n",
    "    } for cnpj in CNPJs_em_cliques\n",
    "}"
   ]
  },
  {
   "cell_type": "code",
   "execution_count": 44,
   "metadata": {},
   "outputs": [],
   "source": [
    "for id in range(clique_id):\n",
    "    for cnpj in c[id]['cnpjs']:\n",
    "        cnpjs_cliques[cnpj]['qtdade_licitacoes_que_figurou_com_alguem_com_vinculo'] += 1\n",
    "        cnpjs_cliques[cnpj]['lista_licitacoes_onde_isso_ocorreu'] += c[id]['id_licitacao'] + ';'"
   ]
  },
  {
   "cell_type": "code",
   "execution_count": 45,
   "metadata": {},
   "outputs": [],
   "source": [
    "cnpjs_cliques = pd.DataFrame.from_dict(\n",
    "    data=cnpjs_cliques,\n",
    "    orient='index'\n",
    ")"
   ]
  },
  {
   "cell_type": "code",
   "execution_count": 46,
   "metadata": {},
   "outputs": [],
   "source": [
    "cnpjs_cliques.to_csv('relatorio3.csv')"
   ]
  },
  {
   "cell_type": "code",
   "execution_count": 47,
   "metadata": {},
   "outputs": [
    {
     "output_type": "execute_result",
     "data": {
      "text/plain": [
       "                qtdade_licitacoes_que_figurou_com_alguem_com_vinculo  \\\n",
       "12420164000319                                                  7      \n",
       "04830177000176                                                  2      \n",
       "26092483000195                                                  1      \n",
       "71189278000105                                                  1      \n",
       "11718529000161                                                  2      \n",
       "...                                                           ...      \n",
       "01783016000180                                                  1      \n",
       "10769908000118                                                  1      \n",
       "17370034000170                                                  1      \n",
       "11656957000107                                                  1      \n",
       "29478428000126                                                  1      \n",
       "\n",
       "                               lista_licitacoes_onde_isso_ocorreu  \n",
       "12420164000319  876321;876330;876370;952879;953158;948555;953320;  \n",
       "04830177000176                                     765742;765682;  \n",
       "26092483000195                                            977286;  \n",
       "71189278000105                                            962116;  \n",
       "11718529000161                                     892107;892209;  \n",
       "...                                                           ...  \n",
       "01783016000180                                            983890;  \n",
       "10769908000118                                            899381;  \n",
       "17370034000170                                            829084;  \n",
       "11656957000107                                            863178;  \n",
       "29478428000126                                            761235;  \n",
       "\n",
       "[4399 rows x 2 columns]"
      ],
      "text/html": "<div>\n<style scoped>\n    .dataframe tbody tr th:only-of-type {\n        vertical-align: middle;\n    }\n\n    .dataframe tbody tr th {\n        vertical-align: top;\n    }\n\n    .dataframe thead th {\n        text-align: right;\n    }\n</style>\n<table border=\"1\" class=\"dataframe\">\n  <thead>\n    <tr style=\"text-align: right;\">\n      <th></th>\n      <th>qtdade_licitacoes_que_figurou_com_alguem_com_vinculo</th>\n      <th>lista_licitacoes_onde_isso_ocorreu</th>\n    </tr>\n  </thead>\n  <tbody>\n    <tr>\n      <th>12420164000319</th>\n      <td>7</td>\n      <td>876321;876330;876370;952879;953158;948555;953320;</td>\n    </tr>\n    <tr>\n      <th>04830177000176</th>\n      <td>2</td>\n      <td>765742;765682;</td>\n    </tr>\n    <tr>\n      <th>26092483000195</th>\n      <td>1</td>\n      <td>977286;</td>\n    </tr>\n    <tr>\n      <th>71189278000105</th>\n      <td>1</td>\n      <td>962116;</td>\n    </tr>\n    <tr>\n      <th>11718529000161</th>\n      <td>2</td>\n      <td>892107;892209;</td>\n    </tr>\n    <tr>\n      <th>...</th>\n      <td>...</td>\n      <td>...</td>\n    </tr>\n    <tr>\n      <th>01783016000180</th>\n      <td>1</td>\n      <td>983890;</td>\n    </tr>\n    <tr>\n      <th>10769908000118</th>\n      <td>1</td>\n      <td>899381;</td>\n    </tr>\n    <tr>\n      <th>17370034000170</th>\n      <td>1</td>\n      <td>829084;</td>\n    </tr>\n    <tr>\n      <th>11656957000107</th>\n      <td>1</td>\n      <td>863178;</td>\n    </tr>\n    <tr>\n      <th>29478428000126</th>\n      <td>1</td>\n      <td>761235;</td>\n    </tr>\n  </tbody>\n</table>\n<p>4399 rows × 2 columns</p>\n</div>"
     },
     "metadata": {},
     "execution_count": 47
    }
   ],
   "source": [
    "cnpjs_cliques"
   ]
  },
  {
   "cell_type": "code",
   "execution_count": null,
   "metadata": {},
   "outputs": [],
   "source": []
  }
 ]
}