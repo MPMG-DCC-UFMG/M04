{
 "metadata": {
  "language_info": {
   "codemirror_mode": {
    "name": "ipython",
    "version": 3
   },
   "file_extension": ".py",
   "mimetype": "text/x-python",
   "name": "python",
   "nbconvert_exporter": "python",
   "pygments_lexer": "ipython3",
   "version": "3.8.10"
  },
  "orig_nbformat": 4,
  "kernelspec": {
   "name": "python3",
   "display_name": "Python 3.8.10 64-bit"
  },
  "interpreter": {
   "hash": "916dbcbb3f70747c44a77c7bcd40155683ae19c65e1c03b4aa3499c5328201f1"
  }
 },
 "nbformat": 4,
 "nbformat_minor": 2,
 "cells": [
  {
   "cell_type": "code",
   "execution_count": 1,
   "metadata": {},
   "outputs": [],
   "source": [
    "import sys\n",
    "sys.path.insert(0, '..')\n",
    "from util import carregamento_dados as cd, ferramentas_grafos as fg\n",
    "import pandas as pd\n",
    "from collections import defaultdict"
   ]
  },
  {
   "cell_type": "code",
   "execution_count": 2,
   "metadata": {},
   "outputs": [],
   "source": [
    "relacoes_entre_cnpjs = cd.salvar_relacoes_entre_cnpjs()\n",
    "informacoes_licitacoes = cd.salvar_informacoes_licitacoes()\n",
    "cnpjs_por_licitacao = cd.salvar_cnpjs_por_licitacao()"
   ]
  },
  {
   "cell_type": "code",
   "execution_count": 4,
   "metadata": {},
   "outputs": [
    {
     "output_type": "execute_result",
     "data": {
      "text/plain": [
       "  seq_dim_licitacao   nom_entidade sgl_entidade_pai     nom_modalidade  \\\n",
       "0            746396  Cascalho Rico               MG  Pregão Presencial   \n",
       "1            746397  Cascalho Rico               MG            Convite   \n",
       "2            746398  Cascalho Rico               MG  Pregão Presencial   \n",
       "3            746399  Cascalho Rico               MG  Pregão Presencial   \n",
       "4            746400  Cascalho Rico               MG  Pregão Presencial   \n",
       "\n",
       "  num_modalidade num_exercicio_licitacao  \\\n",
       "0              4                    2015   \n",
       "1              3                    2015   \n",
       "2             12                    2015   \n",
       "3             13                    2015   \n",
       "4             14                    2015   \n",
       "\n",
       "                                          dsc_objeto vlr_licitacao  \n",
       "0  Selecao e Contratacao de pessoa(s) juridica(s)...     1190070.0  \n",
       "1  Selecao e contratacao de pessoa juridica ou pe...       32000.0  \n",
       "2  Selecao e contratacao de empresa(s) para o for...      989721.6  \n",
       "3  Selecao e contratacao de empresa(s) para forne...     520280.44  \n",
       "4  Selecao e contratacao de empresas para forneci...     206961.66  "
      ],
      "text/html": "<div>\n<style scoped>\n    .dataframe tbody tr th:only-of-type {\n        vertical-align: middle;\n    }\n\n    .dataframe tbody tr th {\n        vertical-align: top;\n    }\n\n    .dataframe thead th {\n        text-align: right;\n    }\n</style>\n<table border=\"1\" class=\"dataframe\">\n  <thead>\n    <tr style=\"text-align: right;\">\n      <th></th>\n      <th>seq_dim_licitacao</th>\n      <th>nom_entidade</th>\n      <th>sgl_entidade_pai</th>\n      <th>nom_modalidade</th>\n      <th>num_modalidade</th>\n      <th>num_exercicio_licitacao</th>\n      <th>dsc_objeto</th>\n      <th>vlr_licitacao</th>\n    </tr>\n  </thead>\n  <tbody>\n    <tr>\n      <th>0</th>\n      <td>746396</td>\n      <td>Cascalho Rico</td>\n      <td>MG</td>\n      <td>Pregão Presencial</td>\n      <td>4</td>\n      <td>2015</td>\n      <td>Selecao e Contratacao de pessoa(s) juridica(s)...</td>\n      <td>1190070.0</td>\n    </tr>\n    <tr>\n      <th>1</th>\n      <td>746397</td>\n      <td>Cascalho Rico</td>\n      <td>MG</td>\n      <td>Convite</td>\n      <td>3</td>\n      <td>2015</td>\n      <td>Selecao e contratacao de pessoa juridica ou pe...</td>\n      <td>32000.0</td>\n    </tr>\n    <tr>\n      <th>2</th>\n      <td>746398</td>\n      <td>Cascalho Rico</td>\n      <td>MG</td>\n      <td>Pregão Presencial</td>\n      <td>12</td>\n      <td>2015</td>\n      <td>Selecao e contratacao de empresa(s) para o for...</td>\n      <td>989721.6</td>\n    </tr>\n    <tr>\n      <th>3</th>\n      <td>746399</td>\n      <td>Cascalho Rico</td>\n      <td>MG</td>\n      <td>Pregão Presencial</td>\n      <td>13</td>\n      <td>2015</td>\n      <td>Selecao e contratacao de empresa(s) para forne...</td>\n      <td>520280.44</td>\n    </tr>\n    <tr>\n      <th>4</th>\n      <td>746400</td>\n      <td>Cascalho Rico</td>\n      <td>MG</td>\n      <td>Pregão Presencial</td>\n      <td>14</td>\n      <td>2015</td>\n      <td>Selecao e contratacao de empresas para forneci...</td>\n      <td>206961.66</td>\n    </tr>\n  </tbody>\n</table>\n</div>"
     },
     "metadata": {},
     "execution_count": 4
    }
   ],
   "source": [
    "informacoes_licitacoes.head(5)"
   ]
  },
  {
   "cell_type": "code",
   "execution_count": 5,
   "metadata": {},
   "outputs": [
    {
     "output_type": "execute_result",
     "data": {
      "text/plain": [
       "  seq_dim_licitacao   num_documento\n",
       "0            761453  07469458000133\n",
       "1            761484  16786094000106\n",
       "2            761484  02874663000160\n",
       "3            761487  26680567000140\n",
       "4            761487  13437102000110"
      ],
      "text/html": "<div>\n<style scoped>\n    .dataframe tbody tr th:only-of-type {\n        vertical-align: middle;\n    }\n\n    .dataframe tbody tr th {\n        vertical-align: top;\n    }\n\n    .dataframe thead th {\n        text-align: right;\n    }\n</style>\n<table border=\"1\" class=\"dataframe\">\n  <thead>\n    <tr style=\"text-align: right;\">\n      <th></th>\n      <th>seq_dim_licitacao</th>\n      <th>num_documento</th>\n    </tr>\n  </thead>\n  <tbody>\n    <tr>\n      <th>0</th>\n      <td>761453</td>\n      <td>07469458000133</td>\n    </tr>\n    <tr>\n      <th>1</th>\n      <td>761484</td>\n      <td>16786094000106</td>\n    </tr>\n    <tr>\n      <th>2</th>\n      <td>761484</td>\n      <td>02874663000160</td>\n    </tr>\n    <tr>\n      <th>3</th>\n      <td>761487</td>\n      <td>26680567000140</td>\n    </tr>\n    <tr>\n      <th>4</th>\n      <td>761487</td>\n      <td>13437102000110</td>\n    </tr>\n  </tbody>\n</table>\n</div>"
     },
     "metadata": {},
     "execution_count": 5
    }
   ],
   "source": [
    "cnpjs_por_licitacao.head(5)"
   ]
  },
  {
   "source": [
    "## Passo 1: Verificar quais licitacoes constam em um arquivo, mas nao no outro (diferenca entre conjuntos)"
   ],
   "cell_type": "markdown",
   "metadata": {}
  },
  {
   "cell_type": "code",
   "execution_count": 25,
   "metadata": {},
   "outputs": [
    {
     "output_type": "stream",
     "name": "stdout",
     "text": [
      "Quantidade de licitações no arquivo de informações gerais que não são cobertas pelo arquivo de CNPJs por licitação: 68171\n\nQuantidade de licitações no arquivo de CNPJs por licitação que não são cobertas pelo arquivo de informações gerais: 0\n"
     ]
    }
   ],
   "source": [
    "lics_em_arquivo_de_info = set(informacoes_licitacoes['seq_dim_licitacao'])\n",
    "lics_em_arquivo_de_cnpjs = set(cnpjs_por_licitacao['seq_dim_licitacao'])\n",
    "\n",
    "qtd_lics_somente_no_arquivo_info = len(lics_em_arquivo_de_info.difference(lics_em_arquivo_de_cnpjs))\n",
    "qtd_lics_somente_no_arquivo_cnpjs = len(lics_em_arquivo_de_cnpjs.difference(lics_em_arquivo_de_info))\n",
    "\n",
    "print(f'Quantidade de licitações no arquivo de informações gerais que não são cobertas pelo arquivo de CNPJs por licitação: {qtd_lics_somente_no_arquivo_info}')\n",
    "print()\n",
    "print(f'Quantidade de licitações no arquivo de CNPJs por licitação que não são cobertas pelo arquivo de informações gerais: {qtd_lics_somente_no_arquivo_cnpjs}')\n"
   ]
  }
 ]
}