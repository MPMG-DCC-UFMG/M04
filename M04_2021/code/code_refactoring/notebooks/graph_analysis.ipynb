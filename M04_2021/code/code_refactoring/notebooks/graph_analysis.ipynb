{
 "cells": [
  {
   "cell_type": "code",
   "execution_count": null,
   "metadata": {},
   "outputs": [],
   "source": [
    "from util import read_data, graph\n",
    "import plotly.express as px\n",
    "\n",
    "relacoes_entre_cnpjs = read_data.salvar_relacoes_entre_cnpjs()\n",
    "informacoes_licitacoes = read_data.salvar_informacoes_licitacoes()\n",
    "cnpjs_por_licitacao = read_data.salvar_cnpjs_por_licitacao()"
   ]
  },
  {
   "cell_type": "markdown",
   "metadata": {},
   "source": [
    "# Caracterização dos dados, parte 2: Análise de grafos"
   ]
  },
  {
   "cell_type": "markdown",
   "metadata": {},
   "source": [
    "### Gerando dados dos grafos por licitação"
   ]
  },
  {
   "cell_type": "code",
   "execution_count": null,
   "metadata": {},
   "outputs": [],
   "source": [
    "informacoes_licitacoes['cliques'] = informacoes_licitacoes.apply(\n",
    "    lambda x : graph.calcula_cliques(\n",
    "        graph.gera_grafo(\n",
    "            relacoes_entre_cnpjs,\n",
    "            graph.cnpjs_licitantes_por_licitacao(\n",
    "                cnpjs_por_licitacao=cnpjs_por_licitacao,\n",
    "                id_licitacao=x['seq_dim_licitacao']\n",
    "            )\n",
    "        )\n",
    "    ),\n",
    "    axis=1\n",
    ")"
   ]
  },
  {
   "cell_type": "markdown",
   "metadata": {},
   "source": [
    "## 8(a) Quantidade de vezes que um mesmo par de CNPJs foi encontrado numa licitação"
   ]
  },
  {
   "cell_type": "markdown",
   "metadata": {},
   "source": [
    "Precisamos, para cada par, contar quantas vezes esses dois CNPJS foram observados\n",
    "juntos em uma mesma licitação.\n",
    "\n",
    "- Par com ou sem vínculo?\n",
    "\n",
    "- Podemos restringir ao escopo do município?\n",
    "\n",
    "1. Gerar todos os possíveis pares de CNPJs.\n",
    "\n",
    "2. Contar a ocorrência desses pares em todas as licitações.\n",
    "\n",
    "3. Plotar um histograma com a frequência de ocorrências por par."
   ]
  },
  {
   "cell_type": "markdown",
   "metadata": {},
   "source": [
    "## 8(b) Quantidade de CNPJs em função do número de vínculos por CNPJ"
   ]
  },
  {
   "cell_type": "code",
   "execution_count": null,
   "metadata": {},
   "outputs": [],
   "source": [
    "vinculos_por_cnpj = relacoes_entre_cnpjs.groupby(0).count()\n",
    "\n",
    "def plota_vinculos_por_cnpj():\n",
    "    df = vinculos_por_cnpj\n",
    "    fig = px.histogram(df,log_x=False, log_y=True,\n",
    "                       title=\"Quantidade de CNPJs em função do número de vínculos por CNPJ\",\n",
    "                       labels={\n",
    "                       'value' : \"Vínculos por CNPJ\"\n",
    "                       }\n",
    "                      )\n",
    "    fig.update_xaxes(visible=True, showticklabels=True)\n",
    "    fig.update_xaxes(categoryorder=\"total descending\")\n",
    "    fig.update_yaxes(title='Total de CNPJs')\n",
    "    fig.update_layout(showlegend=False)\n",
    "    fig.write_image(\"images/vinculos_por_cnpj.jpg\")\n",
    "    fig.show()\n",
    "\n",
    "plota_vinculos_por_cnpj()"
   ]
  }
 ],
 "metadata": {
  "interpreter": {
   "hash": "916dbcbb3f70747c44a77c7bcd40155683ae19c65e1c03b4aa3499c5328201f1"
  },
  "kernelspec": {
   "display_name": "Python 3.8.5 64-bit",
   "name": "python3"
  },
  "language_info": {
   "name": "python",
   "version": ""
  },
  "orig_nbformat": 4
 },
 "nbformat": 4,
 "nbformat_minor": 2
}