{
 "metadata": {
  "language_info": {
   "codemirror_mode": {
    "name": "ipython",
    "version": 3
   },
   "file_extension": ".py",
   "mimetype": "text/x-python",
   "name": "python",
   "nbconvert_exporter": "python",
   "pygments_lexer": "ipython3",
   "version": "3.8.5"
  },
  "orig_nbformat": 4,
  "kernelspec": {
   "name": "python3",
   "display_name": "Python 3.8.5 64-bit"
  },
  "interpreter": {
   "hash": "916dbcbb3f70747c44a77c7bcd40155683ae19c65e1c03b4aa3499c5328201f1"
  }
 },
 "nbformat": 4,
 "nbformat_minor": 2,
 "cells": [
  {
   "cell_type": "code",
   "execution_count": 1,
   "metadata": {},
   "outputs": [],
   "source": [
    "import pandas as pd\n",
    "\n",
    "relacoes_entre_cnpjs = pd.read_csv(\n",
    "    '/home/pedro/code/trabalho/M04/M04_2021/data/input/relacao_cnpjs.csv',\n",
    "    header=None,\n",
    "    dtype=str,\n",
    "    sep=' '\n",
    ")\n",
    "\n",
    "informacoes_licitacoes = pd.read_csv(\n",
    "    '/home/pedro/code/trabalho/M04/M04_2021/data/input/infos_licitacoes.csv',\n",
    "    dtype=str,\n",
    "    sep=';'\n",
    ")\n",
    "\n",
    "cnpjs_por_licitacao = pd.read_csv(\n",
    "    '/home/pedro/code/trabalho/M04/M04_2021/data/input/licitacoes_cnpjs_licitantes.csv',\n",
    "    dtype=str,\n",
    "    sep=';'\n",
    ")"
   ]
  },
  {
   "source": [
    "# Encontrando cliques de cnpjs relacionados para municipios e licitacoes"
   ],
   "cell_type": "markdown",
   "metadata": {}
  },
  {
   "source": [
    "### Vamos analisar as licitações em nível municipal\n",
    "\n",
    "#### Começamos selecionando uma cidade:"
   ],
   "cell_type": "markdown",
   "metadata": {}
  },
  {
   "cell_type": "code",
   "execution_count": 2,
   "metadata": {},
   "outputs": [],
   "source": [
    "cidades = informacoes_licitacoes['nom_entidade'].unique()\n",
    "index_cidade_escolhida = list(cidades).index('Rio Pardo de Minas')"
   ]
  },
  {
   "source": [
    "#### Escolhemos o município de Rio Pardo de Minas.\n",
    "\n",
    "1. Selecionamos as licitações correspondentes ao município."
   ],
   "cell_type": "markdown",
   "metadata": {}
  },
  {
   "cell_type": "code",
   "execution_count": 3,
   "metadata": {},
   "outputs": [],
   "source": [
    "licitacoes_do_municipio = informacoes_licitacoes.loc[informacoes_licitacoes['nom_entidade'] == cidades[index_cidade_escolhida]]\n",
    "licitacoes_do_municipio = licitacoes_do_municipio['seq_dim_licitacao']"
   ]
  },
  {
   "source": [
    "2. Filtramos o arquivo de cnpjs licitantes pelas licitações do município."
   ],
   "cell_type": "markdown",
   "metadata": {}
  },
  {
   "cell_type": "code",
   "execution_count": 4,
   "metadata": {},
   "outputs": [],
   "source": [
    "cnpjs_licitantes = cnpjs_por_licitacao[cnpjs_por_licitacao['seq_dim_licitacao'].isin(licitacoes_do_municipio)]"
   ]
  },
  {
   "source": [
    "#### 3. Criacao do grafo de CNPJs relacionados dentro do contexto municipal"
   ],
   "cell_type": "markdown",
   "metadata": {}
  },
  {
   "cell_type": "code",
   "execution_count": 5,
   "metadata": {},
   "outputs": [
    {
     "output_type": "execute_result",
     "data": {
      "text/plain": [
       "78"
      ]
     },
     "metadata": {},
     "execution_count": 5
    }
   ],
   "source": [
    "import networkx as nx\n",
    "\n",
    "G = nx.Graph()\n",
    "\n",
    "# deve existir uma forma mais inteligente de fazer isso usando funcoes nativas\n",
    "for cnpj in cnpjs_licitantes['num_documento']:\n",
    "    relacoes_do_cnpj = relacoes_entre_cnpjs.loc[relacoes_entre_cnpjs[0] == cnpj]\n",
    "\n",
    "    for relacao in relacoes_do_cnpj.values:\n",
    "        G.add_edge(relacao[0], relacao[1])\n",
    "\n",
    "cliques = list(nx.find_cliques(G))\n",
    "tamanho_cliques = [len(clique) for clique in cliques]\n",
    "max(tamanho_cliques)"
   ]
  },
  {
   "cell_type": "code",
   "execution_count": 6,
   "metadata": {},
   "outputs": [
    {
     "output_type": "execute_result",
     "data": {
      "text/plain": [
       "0.018561209891681994"
      ]
     },
     "metadata": {},
     "execution_count": 6
    }
   ],
   "source": [
    "nx.density(G)"
   ]
  },
  {
   "source": [
    "- Rio Pardo de Minas foi escolhida por conter a maior max_clique no arquivo RELATORIO_GRAFOS_POR_MUNICIPIO.csv.\n",
    "\n",
    "- O campo max_clique contem o valor de 77, aqui o valor aparece como 78. \n",
    "\n",
    "- Nao tenho certeza se a max clique seria somente a clique de tamanho maximo dentre as cliques do municipio, que e o que calculamos aqui.\n",
    "\n",
    "- O valor de densidade retornado pela funcao **density** tambem difere do valor de 0,0547031820006633 observado no relatorio."
   ],
   "cell_type": "markdown",
   "metadata": {}
  },
  {
   "source": [],
   "cell_type": "markdown",
   "metadata": {}
  }
 ]
}